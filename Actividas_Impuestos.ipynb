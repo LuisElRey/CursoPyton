{
  "nbformat": 4,
  "nbformat_minor": 0,
  "metadata": {
    "colab": {
      "provenance": [],
      "authorship_tag": "ABX9TyPJthiBF5fTsCkvlBsnAMvi",
      "include_colab_link": true
    },
    "kernelspec": {
      "name": "python3",
      "display_name": "Python 3"
    },
    "language_info": {
      "name": "python"
    }
  },
  "cells": [
    {
      "cell_type": "markdown",
      "metadata": {
        "id": "view-in-github",
        "colab_type": "text"
      },
      "source": [
        "<a href=\"https://colab.research.google.com/github/LuisElRey/CursoPyton/blob/main/Actividas_Impuestos.ipynb\" target=\"_parent\"><img src=\"https://colab.research.google.com/assets/colab-badge.svg\" alt=\"Open In Colab\"/></a>"
      ]
    },
    {
      "cell_type": "code",
      "source": [
        "Ingreso = int(input(\"Ingrese sus ingresos mensuales: \"))\n",
        "if Ingreso <  1000:\n",
        "  print(\"Usted paga el 5% de impuestos\")\n",
        "elif Ingreso >= 1000 and Ingreso < 2000:\n",
        "  print(\"Usted paga el 15% de impuestos\")\n",
        "elif Ingreso >= 2000 and Ingreso < 3000:\n",
        "  print(\"Usted paga el 20% de impuestos\")\n",
        "else:\n",
        "  print(\"Usted paga el 30% de impuestos\")"
      ],
      "metadata": {
        "colab": {
          "base_uri": "https://localhost:8080/"
        },
        "id": "shADtk4-EgLq",
        "outputId": "625313ca-8214-4da5-e966-6dc044075382"
      },
      "execution_count": null,
      "outputs": [
        {
          "output_type": "stream",
          "name": "stdout",
          "text": [
            "Ingrese sus ingresos mensuales: 19873\n",
            "Usted paga el 30% de impuestos\n"
          ]
        }
      ]
    }
  ]
}