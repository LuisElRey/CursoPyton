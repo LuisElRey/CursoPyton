{
  "nbformat": 4,
  "nbformat_minor": 0,
  "metadata": {
    "colab": {
      "provenance": [],
      "authorship_tag": "ABX9TyML9v4VUmCMH1L5H6Xvwt90",
      "include_colab_link": true
    },
    "kernelspec": {
      "name": "python3",
      "display_name": "Python 3"
    },
    "language_info": {
      "name": "python"
    }
  },
  "cells": [
    {
      "cell_type": "markdown",
      "metadata": {
        "id": "view-in-github",
        "colab_type": "text"
      },
      "source": [
        "<a href=\"https://colab.research.google.com/github/LuisElRey/CursoPyton/blob/main/Actividas_Impuestos.ipynb\" target=\"_parent\"><img src=\"https://colab.research.google.com/assets/colab-badge.svg\" alt=\"Open In Colab\"/></a>"
      ]
    },
    {
      "cell_type": "code",
      "source": [
        "Ingreso = int(input(\"Ingrese sus ingresos mensuales: \"))\n",
        "if Ingreso <  1000:\n",
        "  tasa = 0.05\n",
        "  Resultado = Ingreso * tasa\n",
        "  print(\"Paga un total de \", Resultado, \"Pesos\")\n",
        "elif Ingreso >= 1000 and Ingreso < 2000:\n",
        "  tasa2= 0.15\n",
        "  Resultado = Ingreso * tasa2\n",
        "  print(\"Paga un total de \", Resultado, \"Pesos\")\n",
        "elif Ingreso >= 2000 and Ingreso < 3000:\n",
        "  tasa3 = 0.20\n",
        "  Resultado = Ingreso * tasa3\n",
        "  print(\"Paga un total de \", Resultado, \"Pesos\")\n",
        "else:\n",
        "  tasa4 = 0.30\n",
        "  Resultado = Ingreso * tasa4\n",
        "  print(\"Paga un total de \", Resultado, \"Pesos\")"
      ],
      "metadata": {
        "colab": {
          "base_uri": "https://localhost:8080/"
        },
        "id": "shADtk4-EgLq",
        "outputId": "226d1396-1715-48c1-dcd1-c5b8ad76b89f"
      },
      "execution_count": 4,
      "outputs": [
        {
          "output_type": "stream",
          "name": "stdout",
          "text": [
            "Ingrese sus ingresos mensuales: 2345\n",
            "Paga un total de  469.0 Pesos\n"
          ]
        }
      ]
    },
    {
      "cell_type": "code",
      "source": [],
      "metadata": {
        "id": "If-DRuwZKa3S"
      },
      "execution_count": null,
      "outputs": []
    }
  ]
}