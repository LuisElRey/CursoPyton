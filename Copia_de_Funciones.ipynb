{
  "nbformat": 4,
  "nbformat_minor": 0,
  "metadata": {
    "colab": {
      "provenance": [],
      "authorship_tag": "ABX9TyN4zOIDCy9HujlN1j8zcb7h",
      "include_colab_link": true
    },
    "kernelspec": {
      "name": "python3",
      "display_name": "Python 3"
    },
    "language_info": {
      "name": "python"
    }
  },
  "cells": [
    {
      "cell_type": "markdown",
      "metadata": {
        "id": "view-in-github",
        "colab_type": "text"
      },
      "source": [
        "<a href=\"https://colab.research.google.com/github/LuisElRey/CursoPyton/blob/main/Copia_de_Funciones.ipynb\" target=\"_parent\"><img src=\"https://colab.research.google.com/assets/colab-badge.svg\" alt=\"Open In Colab\"/></a>"
      ]
    },
    {
      "cell_type": "markdown",
      "source": [
        "#Funciones\n",
        "\n",
        "una funcion es un bloque de codigo (grupo de intrucciones) que se ejecuta cuando es llamado\n",
        "\n",
        "son usadas para guardar proceso (**algoritmo**) para que regrese un valor\n",
        "\n",
        "Nos sirve para crear bloques de codigo y mantener nuestros codigos orientados\n",
        "\n",
        "**Ventajas:**\n"
      ],
      "metadata": {
        "id": "wZjvD6X9K9pO"
      }
    },
    {
      "cell_type": "markdown",
      "source": [
        "###Partes de una funcion\n",
        "\n",
        "1. inicia con la palabra def para indicar a python que vamos a craar una funcion\n",
        "2. es seguida por el nombre de la funcion (sin espacios)\n",
        "3. Se colocan los parametros que queremos en nuestra funcion (es opcional, entonces podemos tener desde cero parametros hasta tener \"ilimitados\")\n",
        "4. El cuerpo de la funcion (bloque de codigo), inicia"
      ],
      "metadata": {
        "id": "_ykuVOv9Leq0"
      }
    },
    {
      "cell_type": "code",
      "execution_count": null,
      "metadata": {
        "id": "7Bim-fQJK5i_"
      },
      "outputs": [],
      "source": [
        "#Para crear una funcion en python\n",
        "#usamos la palabra reservada 'def'\n",
        "\n",
        "def mi_primer_funcion():\n",
        "  print('Hola, estoy dentro de una funcion')"
      ]
    },
    {
      "cell_type": "code",
      "source": [
        "type(mi_primer_funcion)"
      ],
      "metadata": {
        "colab": {
          "base_uri": "https://localhost:8080/"
        },
        "id": "kWYLw77jMy0L",
        "outputId": "c708b4d3-5ae5-4e9a-f322-c7722ac2c940"
      },
      "execution_count": null,
      "outputs": [
        {
          "output_type": "execute_result",
          "data": {
            "text/plain": [
              "function"
            ]
          },
          "metadata": {},
          "execution_count": 3
        }
      ]
    },
    {
      "cell_type": "code",
      "source": [
        "mi_primer_funcion()"
      ],
      "metadata": {
        "colab": {
          "base_uri": "https://localhost:8080/"
        },
        "id": "-IQCeqAWM9cj",
        "outputId": "3e9f03dd-8848-459c-dafc-577b3e261d6d"
      },
      "execution_count": null,
      "outputs": [
        {
          "output_type": "stream",
          "name": "stdout",
          "text": [
            "Hola, estoy dentro de una funcion\n"
          ]
        }
      ]
    },
    {
      "cell_type": "code",
      "source": [
        "mi_variable = mi_primer_funcion()"
      ],
      "metadata": {
        "colab": {
          "base_uri": "https://localhost:8080/"
        },
        "id": "V4RuDUTENErS",
        "outputId": "dceca6fc-d5ec-4cf2-ad39-6479620ee433"
      },
      "execution_count": null,
      "outputs": [
        {
          "output_type": "stream",
          "name": "stdout",
          "text": [
            "Hola, estoy dentro de una funcion\n"
          ]
        }
      ]
    },
    {
      "cell_type": "code",
      "source": [
        "print(mi_variable)"
      ],
      "metadata": {
        "colab": {
          "base_uri": "https://localhost:8080/"
        },
        "id": "PuFYN9v0NYTe",
        "outputId": "1e45668d-ac48-4a80-cc5f-15d9849ac2ea"
      },
      "execution_count": null,
      "outputs": [
        {
          "output_type": "stream",
          "name": "stdout",
          "text": [
            "None\n"
          ]
        }
      ]
    },
    {
      "cell_type": "code",
      "source": [
        "type(mi_variable)"
      ],
      "metadata": {
        "colab": {
          "base_uri": "https://localhost:8080/"
        },
        "id": "FzRR35tbNcSx",
        "outputId": "fc79b0ca-3394-45c8-9990-6f802dca4cca"
      },
      "execution_count": null,
      "outputs": [
        {
          "output_type": "execute_result",
          "data": {
            "text/plain": [
              "NoneType"
            ]
          },
          "metadata": {},
          "execution_count": 7
        }
      ]
    },
    {
      "cell_type": "markdown",
      "source": [
        "#Creando una funcion con argumentos\n",
        "\n",
        "- crear una funcion para obtener el aera de un cuadrado"
      ],
      "metadata": {
        "id": "JynpLpJSAY1Y"
      }
    },
    {
      "cell_type": "code",
      "source": [
        "#Nivel basico\n",
        "def area_cuadrado(lado):\n",
        "  \"\"\"Calcula el ara de un cuadrado\"\"\"\n",
        "  area = lado * lado\n",
        "  return area"
      ],
      "metadata": {
        "id": "UJEpPDutNeyd"
      },
      "execution_count": 9,
      "outputs": []
    },
    {
      "cell_type": "code",
      "source": [
        "from typing import Union"
      ],
      "metadata": {
        "id": "1oz_wo-wCj93"
      },
      "execution_count": 10,
      "outputs": []
    },
    {
      "cell_type": "code",
      "source": [
        "#Nivel Intermedio-avanzado\n",
        "def area_cuadrado(lado: Union[int, float]) -> Union[int, float]:\n",
        "  \"\"\"Calcula el ara de un cuadrado\"\"\"\n",
        "  area = lado * lado\n",
        "  return area"
      ],
      "metadata": {
        "id": "oFttNm7MCPcd"
      },
      "execution_count": 11,
      "outputs": []
    },
    {
      "cell_type": "code",
      "source": [
        "area_cuadrado(4.1)"
      ],
      "metadata": {
        "colab": {
          "base_uri": "https://localhost:8080/"
        },
        "id": "Q6sPE53gA6U8",
        "outputId": "6efed290-4c30-4668-b2f2-aa59d4aeec5f"
      },
      "execution_count": 13,
      "outputs": [
        {
          "output_type": "execute_result",
          "data": {
            "text/plain": [
              "16.81"
            ]
          },
          "metadata": {},
          "execution_count": 13
        }
      ]
    },
    {
      "cell_type": "markdown",
      "source": [
        "#Ejercicio\n",
        "\n",
        "- Sacar perimetro a un circlo y a un rectangulo\n",
        "\n",
        "- Sacar area a un circulo y a un rectanguo"
      ],
      "metadata": {
        "id": "EDAlRltfEStr"
      }
    },
    {
      "cell_type": "code",
      "source": [
        "#Rectangulo area\n",
        "def area(base, altura):\n",
        "  a = base * altura\n",
        "  return a\n",
        "\n",
        "#Rectangulo perimetro\n",
        "def perimetro(base, altura):\n",
        "  p = (base + altura) * 2\n",
        "  return p"
      ],
      "metadata": {
        "id": "aPY6WIOaBJ4S"
      },
      "execution_count": 33,
      "outputs": []
    },
    {
      "cell_type": "code",
      "source": [
        "area(5, 10)"
      ],
      "metadata": {
        "colab": {
          "base_uri": "https://localhost:8080/"
        },
        "id": "aTHWdRJFF9NO",
        "outputId": "6caef603-0606-44af-97b5-1b8f9582f47d"
      },
      "execution_count": 22,
      "outputs": [
        {
          "output_type": "execute_result",
          "data": {
            "text/plain": [
              "50"
            ]
          },
          "metadata": {},
          "execution_count": 22
        }
      ]
    },
    {
      "cell_type": "code",
      "source": [
        "perimetro(5, 10)"
      ],
      "metadata": {
        "colab": {
          "base_uri": "https://localhost:8080/"
        },
        "id": "SuB6n-IrG3ap",
        "outputId": "2c0a2572-8754-419b-cff0-adb8fb539214"
      },
      "execution_count": 24,
      "outputs": [
        {
          "output_type": "execute_result",
          "data": {
            "text/plain": [
              "30"
            ]
          },
          "metadata": {},
          "execution_count": 24
        }
      ]
    },
    {
      "cell_type": "code",
      "source": [
        "#Circulo area\n",
        "pi = 3.141592\n",
        "def area_c(radio):\n",
        "  a_c = pi * (radio * radio)\n",
        "  return a_c\n",
        "\n",
        "#Circulo perimetro\n",
        "def perimetro_c(radio):\n",
        "  p_c = pi * 2 * radio\n",
        "  return p_c"
      ],
      "metadata": {
        "id": "g_M5S33HG8eR"
      },
      "execution_count": 34,
      "outputs": []
    },
    {
      "cell_type": "code",
      "source": [
        "area_c(15)"
      ],
      "metadata": {
        "colab": {
          "base_uri": "https://localhost:8080/"
        },
        "id": "5dxn2ZTVHeKK",
        "outputId": "6f41cc13-2481-4ded-b003-4b02f1cecef3"
      },
      "execution_count": 26,
      "outputs": [
        {
          "output_type": "execute_result",
          "data": {
            "text/plain": [
              "706.86"
            ]
          },
          "metadata": {},
          "execution_count": 26
        }
      ]
    },
    {
      "cell_type": "code",
      "source": [
        "perimetro_c(10)"
      ],
      "metadata": {
        "colab": {
          "base_uri": "https://localhost:8080/"
        },
        "id": "Uuzpv97wH7OC",
        "outputId": "cc1bf885-0c84-41ab-b09a-299bc8abcdd8"
      },
      "execution_count": 29,
      "outputs": [
        {
          "output_type": "execute_result",
          "data": {
            "text/plain": [
              "62.832"
            ]
          },
          "metadata": {},
          "execution_count": 29
        }
      ]
    },
    {
      "cell_type": "code",
      "source": [],
      "metadata": {
        "id": "saBkePGjIIgn"
      },
      "execution_count": null,
      "outputs": []
    }
  ]
}