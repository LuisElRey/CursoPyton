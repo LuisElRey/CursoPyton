{
  "nbformat": 4,
  "nbformat_minor": 0,
  "metadata": {
    "colab": {
      "provenance": [],
      "authorship_tag": "ABX9TyOysPjrfWydjwawQMThPEqo",
      "include_colab_link": true
    },
    "kernelspec": {
      "name": "python3",
      "display_name": "Python 3"
    },
    "language_info": {
      "name": "python"
    }
  },
  "cells": [
    {
      "cell_type": "markdown",
      "metadata": {
        "id": "view-in-github",
        "colab_type": "text"
      },
      "source": [
        "<a href=\"https://colab.research.google.com/github/LuisElRey/CursoPyton/blob/main/Curso1.ipynb\" target=\"_parent\"><img src=\"https://colab.research.google.com/assets/colab-badge.svg\" alt=\"Open In Colab\"/></a>"
      ]
    },
    {
      "cell_type": "markdown",
      "source": [
        "**Mi primer codigo en python.**"
      ],
      "metadata": {
        "id": "Js72QsTfsAsR"
      }
    },
    {
      "cell_type": "code",
      "source": [
        "#En python podemos usar comillas dobles\n",
        "#Para crear un string (cadena de caracteres o texto)\n",
        "print(\"hello, world\")"
      ],
      "metadata": {
        "colab": {
          "base_uri": "https://localhost:8080/"
        },
        "id": "5rHwKaMssOQh",
        "outputId": "174b4e1c-a9e7-4782-a208-8bf7b4afc159"
      },
      "execution_count": 1,
      "outputs": [
        {
          "output_type": "stream",
          "name": "stdout",
          "text": [
            "hello, world\n"
          ]
        }
      ]
    },
    {
      "cell_type": "code",
      "source": [
        "#Pero tambien se usan comillas sencillas\n",
        "print('Hello, world')"
      ],
      "metadata": {
        "colab": {
          "base_uri": "https://localhost:8080/"
        },
        "id": "KjkUmHF0s8ko",
        "outputId": "1cf3fe6d-2c36-4e44-b1cb-a9f4c2ae7759"
      },
      "execution_count": 2,
      "outputs": [
        {
          "output_type": "stream",
          "name": "stdout",
          "text": [
            "Hello, world\n"
          ]
        }
      ]
    },
    {
      "cell_type": "code",
      "source": [
        "#Aunque no es necesario usar el print en colab\n",
        "#para mostrar un resultado\n",
        "\"hello, world\"\n",
        "#util cuando desarrollamos o queremos ver un resultado rapido\n",
        "#pero siemore es reomendable poner el print"
      ],
      "metadata": {
        "id": "7VV9lZhyvTI3"
      },
      "execution_count": null,
      "outputs": []
    }
  ]
}