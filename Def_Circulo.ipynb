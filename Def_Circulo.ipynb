{
  "nbformat": 4,
  "nbformat_minor": 0,
  "metadata": {
    "colab": {
      "provenance": [],
      "authorship_tag": "ABX9TyOIwmDmQq48aHhTIhDc1ld5",
      "include_colab_link": true
    },
    "kernelspec": {
      "name": "python3",
      "display_name": "Python 3"
    },
    "language_info": {
      "name": "python"
    }
  },
  "cells": [
    {
      "cell_type": "markdown",
      "metadata": {
        "id": "view-in-github",
        "colab_type": "text"
      },
      "source": [
        "<a href=\"https://colab.research.google.com/github/LuisElRey/CursoPyton/blob/main/Def_Circulo.ipynb\" target=\"_parent\"><img src=\"https://colab.research.google.com/assets/colab-badge.svg\" alt=\"Open In Colab\"/></a>"
      ]
    },
    {
      "cell_type": "markdown",
      "source": [
        "#Area, Perimetro y Volumen de un Circulo"
      ],
      "metadata": {
        "id": "BZTUemxfb45n"
      }
    },
    {
      "cell_type": "code",
      "execution_count": 3,
      "metadata": {
        "id": "yV-gIztrbyjw"
      },
      "outputs": [],
      "source": [
        "import math\n",
        "def calculate_squere_properties(r):\n",
        "  pi = math.pi\n",
        "  area = pi * (r**2)\n",
        "  perimetro = pi * (r*2)\n",
        "  volumen = 4/3 * pi * (r ** 3)\n",
        "  return (area, perimetro, volumen)"
      ]
    },
    {
      "cell_type": "code",
      "source": [
        "side = 5.0\n",
        "results = calculate_squere_properties(side)"
      ],
      "metadata": {
        "id": "I2Xn0KlFfXyb"
      },
      "execution_count": 4,
      "outputs": []
    },
    {
      "cell_type": "code",
      "source": [
        "results"
      ],
      "metadata": {
        "colab": {
          "base_uri": "https://localhost:8080/"
        },
        "id": "TsB5kBd8frB4",
        "outputId": "bc98e591-c240-44f9-d43c-1f635488fe59"
      },
      "execution_count": 6,
      "outputs": [
        {
          "output_type": "execute_result",
          "data": {
            "text/plain": [
              "(78.53981633974483, 31.41592653589793, 523.5987755982989)"
            ]
          },
          "metadata": {},
          "execution_count": 6
        }
      ]
    },
    {
      "cell_type": "code",
      "source": [],
      "metadata": {
        "id": "Ou-fjD53ft8-"
      },
      "execution_count": null,
      "outputs": []
    }
  ]
}