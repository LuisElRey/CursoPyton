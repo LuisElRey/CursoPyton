{
  "nbformat": 4,
  "nbformat_minor": 0,
  "metadata": {
    "colab": {
      "provenance": [],
      "authorship_tag": "ABX9TyN8+40hZu47SRKpYLKHg0lY",
      "include_colab_link": true
    },
    "kernelspec": {
      "name": "python3",
      "display_name": "Python 3"
    },
    "language_info": {
      "name": "python"
    }
  },
  "cells": [
    {
      "cell_type": "markdown",
      "metadata": {
        "id": "view-in-github",
        "colab_type": "text"
      },
      "source": [
        "<a href=\"https://colab.research.google.com/github/LuisElRey/CursoPyton/blob/main/Eje_GalletaClass.ipynb\" target=\"_parent\"><img src=\"https://colab.research.google.com/assets/colab-badge.svg\" alt=\"Open In Colab\"/></a>"
      ]
    },
    {
      "cell_type": "markdown",
      "source": [
        "#Acividad\n",
        "\n",
        "crar la clase **Galleta** la cual recibira los siguientes argumentos\n",
        "\n",
        "- Sabor: string\n",
        "\n",
        "- Diametro: float\n",
        "\n",
        "- Chispas: bool\n",
        "\n",
        "La clase debera regresar el peso de la galleta. Una galleta oreo mide 4.4 cm de diametro con un peso de 11g\n",
        "\n",
        "\n",
        "Si la galleta tiene chispas, aniade 2 gr al peso final\n"
      ],
      "metadata": {
        "id": "tf-cZKP8A4Io"
      }
    },
    {
      "cell_type": "code",
      "execution_count": 1,
      "metadata": {
        "id": "p5kP7gWMAuJh"
      },
      "outputs": [],
      "source": [
        "class Galleta:\n",
        "  def __init__(self, Diametro, Sabor, Chispas):\n",
        "    self.Diametro = Diametro\n",
        "    self.Chispas = Chispas\n",
        "    self.Sabor = Sabor\n",
        "\n",
        "    if self.Chispas == 'SI':\n",
        "      peso = (self.Diametro * 11)/4.4 + 2\n",
        "    else:\n",
        "      peso = (self.Diametro * 11)/4.4\n",
        "    print(f'El peso de la galleta es: {peso:.2f}gr y sabe a {Sabor}')\n",
        "\n",
        "  def peso(self):\n",
        "    return"
      ]
    },
    {
      "cell_type": "code",
      "source": [
        "Galleta(5.5, 'vainilla', 'SI')"
      ],
      "metadata": {
        "id": "lHp9j6C4A-Vl",
        "outputId": "6862b518-96cc-4e58-ad6c-7044040fb2bf",
        "colab": {
          "base_uri": "https://localhost:8080/"
        }
      },
      "execution_count": 2,
      "outputs": [
        {
          "output_type": "stream",
          "name": "stdout",
          "text": [
            "El peso de la galleta es: 15.75gr y sabe a vainilla\n"
          ]
        },
        {
          "output_type": "execute_result",
          "data": {
            "text/plain": [
              "<__main__.Galleta at 0x7f0845db4220>"
            ]
          },
          "metadata": {},
          "execution_count": 2
        }
      ]
    },
    {
      "cell_type": "code",
      "source": [],
      "metadata": {
        "id": "bD0BDq_iBCQa"
      },
      "execution_count": null,
      "outputs": []
    }
  ]
}