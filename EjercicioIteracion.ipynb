{
  "nbformat": 4,
  "nbformat_minor": 0,
  "metadata": {
    "colab": {
      "provenance": [],
      "authorship_tag": "ABX9TyPP3S7q9HjaLyyEkDJiBoHn",
      "include_colab_link": true
    },
    "kernelspec": {
      "name": "python3",
      "display_name": "Python 3"
    },
    "language_info": {
      "name": "python"
    }
  },
  "cells": [
    {
      "cell_type": "markdown",
      "metadata": {
        "id": "view-in-github",
        "colab_type": "text"
      },
      "source": [
        "<a href=\"https://colab.research.google.com/github/LuisElRey/CursoPyton/blob/main/EjercicioIteracion.ipynb\" target=\"_parent\"><img src=\"https://colab.research.google.com/assets/colab-badge.svg\" alt=\"Open In Colab\"/></a>"
      ]
    },
    {
      "cell_type": "markdown",
      "source": [
        "#5.8 Ejercicios\n",
        "\n",
        "Ejemplo1. Imprime cada fruta en una lista de frutas"
      ],
      "metadata": {
        "id": "99HwidKh0Oq9"
      }
    },
    {
      "cell_type": "code",
      "execution_count": 2,
      "metadata": {
        "id": "-K2IfUJIz08L"
      },
      "outputs": [],
      "source": [
        "fruts = ('manzana', 'platano', 'cereza')"
      ]
    },
    {
      "cell_type": "code",
      "source": [
        "contador = 0\n",
        "for i in fruts:\n",
        "  contador += 1\n",
        "  print(f'fruta {contador}:', i)"
      ],
      "metadata": {
        "colab": {
          "base_uri": "https://localhost:8080/"
        },
        "id": "V7YQQr4q0iLY",
        "outputId": "9a69a78d-c930-45d0-b6b8-babeb93167c0"
      },
      "execution_count": 6,
      "outputs": [
        {
          "output_type": "stream",
          "name": "stdout",
          "text": [
            "fruta 1: manzana\n",
            "fruta 2: platano\n",
            "fruta 3: cereza\n"
          ]
        }
      ]
    },
    {
      "cell_type": "code",
      "source": [
        "adj = ('roja', 'grande', 'dulce')\n",
        "fruts = ('manzana', 'platano', 'cereza')\n",
        "\n",
        "for contador, valor1 in enumerate(fruts, start = 1):\n",
        "  contador += 1\n",
        "  for valor2 in adj:\n",
        "    print(f'{contador}. {valor1} {valor2}')"
      ],
      "metadata": {
        "colab": {
          "base_uri": "https://localhost:8080/"
        },
        "id": "RQVlQ9qV12sX",
        "outputId": "122fd01f-0560-4043-aa57-3ff2d9217bf1"
      },
      "execution_count": 6,
      "outputs": [
        {
          "output_type": "stream",
          "name": "stdout",
          "text": [
            "2. manzana roja\n",
            "2. manzana grande\n",
            "2. manzana dulce\n",
            "3. platano roja\n",
            "3. platano grande\n",
            "3. platano dulce\n",
            "4. cereza roja\n",
            "4. cereza grande\n",
            "4. cereza dulce\n"
          ]
        }
      ]
    },
    {
      "cell_type": "code",
      "source": [
        "adj = ('roja', 'grande', 'dulce')\n",
        "fruts = ('manzana', 'platano', 'cereza')\n",
        "\n",
        "for i, valor2 in enumerate(adj, start = 1):\n",
        "  contador += 1\n",
        "  for j, valor1 in enumerate(fruts, start = 1):\n",
        "    print(f'Fruta ({i}, {j}): {valor2} {valor1}')"
      ],
      "metadata": {
        "colab": {
          "base_uri": "https://localhost:8080/"
        },
        "id": "EG6kBKxu_fYW",
        "outputId": "c8bc053b-b91f-4070-bdce-b9c49e9fee4d"
      },
      "execution_count": 8,
      "outputs": [
        {
          "output_type": "stream",
          "name": "stdout",
          "text": [
            "Fruta (1, 1): roja manzana\n",
            "Fruta (1, 2): roja platano\n",
            "Fruta (1, 3): roja cereza\n",
            "Fruta (2, 1): grande manzana\n",
            "Fruta (2, 2): grande platano\n",
            "Fruta (2, 3): grande cereza\n",
            "Fruta (3, 1): dulce manzana\n",
            "Fruta (3, 2): dulce platano\n",
            "Fruta (3, 3): dulce cereza\n"
          ]
        }
      ]
    },
    {
      "cell_type": "code",
      "source": [
        "def mostrar_años(edad):\n",
        "    for i in range(1, edad + 1):\n",
        "        print(\"Has cumplido\", i, \"años\")\n",
        "\n",
        "if __name__ == \"__main__\":\n",
        "    edad_usuario = int(input(\"¿Cuántos años tienes? \"))\n",
        "    mostrar_años(edad_usuario)"
      ],
      "metadata": {
        "colab": {
          "base_uri": "https://localhost:8080/"
        },
        "id": "v2DVMn3JBjbF",
        "outputId": "32587e9c-8e31-49a0-9de1-3d6febb6d33a"
      },
      "execution_count": 2,
      "outputs": [
        {
          "output_type": "stream",
          "name": "stdout",
          "text": [
            "¿Cuántos años tienes? 7\n",
            "Has cumplido 1 años\n",
            "Has cumplido 2 años\n",
            "Has cumplido 3 años\n",
            "Has cumplido 4 años\n",
            "Has cumplido 5 años\n",
            "Has cumplido 6 años\n",
            "Has cumplido 7 años\n"
          ]
        }
      ]
    },
    {
      "cell_type": "code",
      "source": [
        "sum = 0\n",
        "#num = None\n",
        "while True:\n",
        "  num = int(input(\"Ingrese un numero (Ingresa 0 para finalizar): \"))\n",
        "  if num > 0:\n",
        "    sum += num\n",
        "\n",
        "  if num == 0:\n",
        "      print('La suma de los numeros es: ', sum)\n",
        "      break\n",
        "\n",
        "else:\n",
        "  print('Brou tiene que ser un numero')"
      ],
      "metadata": {
        "colab": {
          "base_uri": "https://localhost:8080/"
        },
        "id": "4Z86nI7ZzT4s",
        "outputId": "4e058fa6-9a4d-4a08-d00c-3e4191a72f83"
      },
      "execution_count": 8,
      "outputs": [
        {
          "output_type": "stream",
          "name": "stdout",
          "text": [
            "Ingrese un numero (Ingresa 0 para finalizar): 3\n",
            "Ingrese un numero (Ingresa 0 para finalizar): 4\n",
            "Ingrese un numero (Ingresa 0 para finalizar): 5\n",
            "Ingrese un numero (Ingresa 0 para finalizar): 6\n",
            "Ingrese un numero (Ingresa 0 para finalizar): 7\n",
            "Ingrese un numero (Ingresa 0 para finalizar): 8\n",
            "Ingrese un numero (Ingresa 0 para finalizar): 9\n",
            "Ingrese un numero (Ingresa 0 para finalizar): 0\n",
            "La suma de los numeros es:  42\n"
          ]
        }
      ]
    },
    {
      "cell_type": "code",
      "source": [
        "z = 7\n",
        "x = 1\n",
        "while z > 0:\n",
        "  print(' ' * (z-1) + '*' * x + ' ' * (z-1))\n",
        "  x += 2\n",
        "  z -= 1"
      ],
      "metadata": {
        "colab": {
          "base_uri": "https://localhost:8080/"
        },
        "id": "2GKnx14jIFZo",
        "outputId": "73d64dc2-ef6e-4c21-9bb1-f5140c676087"
      },
      "execution_count": 9,
      "outputs": [
        {
          "output_type": "stream",
          "name": "stdout",
          "text": [
            "      *      \n",
            "     ***     \n",
            "    *****    \n",
            "   *******   \n",
            "  *********  \n",
            " *********** \n",
            "*************\n"
          ]
        }
      ]
    },
    {
      "cell_type": "code",
      "source": [],
      "metadata": {
        "id": "ZA-vCi0wNnPM"
      },
      "execution_count": null,
      "outputs": []
    }
  ]
}