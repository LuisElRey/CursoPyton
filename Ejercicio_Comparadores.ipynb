{
  "nbformat": 4,
  "nbformat_minor": 0,
  "metadata": {
    "colab": {
      "provenance": [],
      "authorship_tag": "ABX9TyNgzlJQvqskzUpbiRjIHo4r",
      "include_colab_link": true
    },
    "kernelspec": {
      "name": "python3",
      "display_name": "Python 3"
    },
    "language_info": {
      "name": "python"
    }
  },
  "cells": [
    {
      "cell_type": "markdown",
      "metadata": {
        "id": "view-in-github",
        "colab_type": "text"
      },
      "source": [
        "<a href=\"https://colab.research.google.com/github/LuisElRey/CursoPyton/blob/main/Ejercicio_Comparadores.ipynb\" target=\"_parent\"><img src=\"https://colab.research.google.com/assets/colab-badge.svg\" alt=\"Open In Colab\"/></a>"
      ]
    },
    {
      "cell_type": "code",
      "execution_count": 7,
      "metadata": {
        "id": "_K0udg0N1EwC"
      },
      "outputs": [],
      "source": [
        "def no_voy_a_trabajar(dia_semana):\n",
        "    if dia_semana == \"lunes\":\n",
        "        print(\"El lunes no voy a trabajar, no me quiero levantar\")\n",
        "    elif dia_semana == \"martes\":\n",
        "        print(\"El martes no voy a trabajar, estoy muy ocupado\")\n",
        "    elif dia_semana == \"miércoles\":\n",
        "        print(\"El miércoles no voy a trabajar, quiero descansar\")\n",
        "    elif dia_semana == \"jueves\":\n",
        "        print(\"El jueves no voy a trabajar, me siento mal\")\n",
        "    elif dia_semana == \"viernes\":\n",
        "        print(\"El viernes no voy a trabajar, me voy a relajar\")\n",
        "    else:\n",
        "        print(\"El fin de semana no voy a trabajar, me voy a divertir\")\n",
        "\n",
        "#dia = \"lunes\"\n",
        "#no_voy_a_trabajar(dia)"
      ]
    },
    {
      "cell_type": "code",
      "source": [
        "dia = \"lunes\"\n",
        "no_voy_a_trabajar(dia)"
      ],
      "metadata": {
        "colab": {
          "base_uri": "https://localhost:8080/"
        },
        "id": "mNZqcJOh17GS",
        "outputId": "667d6057-a60c-42f1-dc0e-794cf0761200"
      },
      "execution_count": 8,
      "outputs": [
        {
          "output_type": "stream",
          "name": "stdout",
          "text": [
            "El lunes no voy a trabajar, no me quiero levantar\n"
          ]
        }
      ]
    },
    {
      "cell_type": "code",
      "source": [],
      "metadata": {
        "id": "BF4ku7Kd4KJQ"
      },
      "execution_count": null,
      "outputs": []
    }
  ]
}