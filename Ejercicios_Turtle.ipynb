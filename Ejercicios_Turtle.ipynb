{
  "nbformat": 4,
  "nbformat_minor": 0,
  "metadata": {
    "colab": {
      "provenance": [],
      "authorship_tag": "ABX9TyOi8gQimmtJ33jQ4NmhPl0c",
      "include_colab_link": true
    },
    "kernelspec": {
      "name": "python3",
      "display_name": "Python 3"
    },
    "language_info": {
      "name": "python"
    }
  },
  "cells": [
    {
      "cell_type": "markdown",
      "metadata": {
        "id": "view-in-github",
        "colab_type": "text"
      },
      "source": [
        "<a href=\"https://colab.research.google.com/github/LuisElRey/CursoPyton/blob/main/Ejercicios_Turtle.ipynb\" target=\"_parent\"><img src=\"https://colab.research.google.com/assets/colab-badge.svg\" alt=\"Open In Colab\"/></a>"
      ]
    },
    {
      "cell_type": "code",
      "source": [
        "!pip3 install ColabTurtle"
      ],
      "metadata": {
        "id": "2q_L05XnLo8E"
      },
      "execution_count": null,
      "outputs": []
    },
    {
      "cell_type": "code",
      "source": [
        "from ColabTurtle.Turtle import *\n",
        "import ColabTurtle"
      ],
      "metadata": {
        "id": "nuw4jZPqL38g"
      },
      "execution_count": null,
      "outputs": []
    },
    {
      "cell_type": "code",
      "execution_count": null,
      "metadata": {
        "colab": {
          "base_uri": "https://localhost:8080/",
          "height": 521
        },
        "id": "gKS9mf6ILcLX",
        "outputId": "83481776-7504-43d0-efbd-cfad99e7360f"
      },
      "outputs": [
        {
          "output_type": "display_data",
          "data": {
            "text/plain": [
              "<IPython.core.display.HTML object>"
            ],
            "text/html": [
              "\n",
              "      <svg width=\"800\" height=\"500\">\n",
              "        <rect width=\"100%\" height=\"100%\" fill=\"black\"/>\n",
              "        <line x1=\"400\" y1=\"250\" x2=\"400.0\" y2=\"50.0\" stroke-linecap=\"round\" style=\"stroke:blue;stroke-width:4\"/><line x1=\"400.0\" y1=\"50.0\" x2=\"226.795\" y2=\"150.0\" stroke-linecap=\"round\" style=\"stroke:blue;stroke-width:4\"/><line x1=\"226.795\" y1=\"150.0\" x2=\"400.0\" y2=\"250.0\" stroke-linecap=\"round\" style=\"stroke:blue;stroke-width:4\"/>\n",
              "        <g visibility=visible transform=\"rotate(120,400.0,250.0) translate(382.0, 232.0)\">\n",
              "<path style=\" stroke:none;fill-rule:evenodd;fill:blue;fill-opacity:1;\" d=\"M 18.214844 0.632812 C 16.109375 1.800781 15.011719 4.074219 15.074219 7.132812 L 15.085938 7.652344 L 14.785156 7.496094 C 13.476562 6.824219 11.957031 6.671875 10.40625 7.066406 C 8.46875 7.550781 6.515625 9.15625 4.394531 11.992188 C 3.0625 13.777344 2.679688 14.636719 3.042969 15.027344 L 3.15625 15.152344 L 3.519531 15.152344 C 4.238281 15.152344 4.828125 14.886719 8.1875 13.039062 C 9.386719 12.378906 10.371094 11.839844 10.378906 11.839844 C 10.386719 11.839844 10.355469 11.929688 10.304688 12.035156 C 9.832031 13.09375 9.257812 14.820312 8.96875 16.078125 C 7.914062 20.652344 8.617188 24.53125 11.070312 27.660156 C 11.351562 28.015625 11.363281 27.914062 10.972656 28.382812 C 8.925781 30.84375 7.945312 33.28125 8.238281 35.1875 C 8.289062 35.527344 8.28125 35.523438 8.917969 35.523438 C 10.941406 35.523438 13.074219 34.207031 15.136719 31.6875 C 15.359375 31.417969 15.328125 31.425781 15.5625 31.574219 C 16.292969 32.042969 18.023438 32.964844 18.175781 32.964844 C 18.335938 32.964844 19.941406 32.210938 20.828125 31.71875 C 20.996094 31.625 21.136719 31.554688 21.136719 31.558594 C 21.203125 31.664062 21.898438 32.414062 22.222656 32.730469 C 23.835938 34.300781 25.5625 35.132812 27.582031 35.300781 C 27.90625 35.328125 27.9375 35.308594 28.007812 34.984375 C 28.382812 33.242188 27.625 30.925781 25.863281 28.425781 L 25.542969 27.96875 L 25.699219 27.785156 C 28.945312 23.960938 29.132812 18.699219 26.257812 11.96875 L 26.207031 11.84375 L 27.945312 12.703125 C 31.53125 14.476562 32.316406 14.800781 33.03125 14.800781 C 33.976562 14.800781 33.78125 13.9375 32.472656 12.292969 C 28.519531 7.355469 25.394531 5.925781 21.921875 7.472656 L 21.558594 7.636719 L 21.578125 7.542969 C 21.699219 6.992188 21.761719 5.742188 21.699219 5.164062 C 21.496094 3.296875 20.664062 1.964844 19.003906 0.855469 C 18.480469 0.503906 18.457031 0.5 18.214844 0.632812\"/>\n",
              "</g>\n",
              "      </svg>\n",
              "    "
            ]
          },
          "metadata": {}
        }
      ],
      "source": [
        "initializeTurtle()\n",
        "pencolor('blue')\n",
        "\n",
        "forward(200)\n",
        "left(120)\n",
        "forward(200)\n",
        "right(240)\n",
        "forward(200)"
      ]
    },
    {
      "cell_type": "code",
      "source": [
        "initializeTurtle()\n",
        "pencolor('blue')\n",
        "\n",
        "lados = int(input(\"Ingrese el numero de lados: \"))\n",
        "grados = 360\n",
        "lados_grado = grados/lados\n",
        "for i in range(lados):\n",
        "  forward(30) #movimiento\n",
        "  left(lados_grado) #Direccion"
      ],
      "metadata": {
        "colab": {
          "base_uri": "https://localhost:8080/",
          "height": 538
        },
        "id": "P_kg2a5HMZLh",
        "outputId": "e676d28e-4084-44aa-fbcc-50fca2b071a1"
      },
      "execution_count": null,
      "outputs": [
        {
          "output_type": "display_data",
          "data": {
            "text/plain": [
              "<IPython.core.display.HTML object>"
            ],
            "text/html": [
              "\n",
              "      <svg width=\"800\" height=\"500\">\n",
              "        <rect width=\"100%\" height=\"100%\" fill=\"black\"/>\n",
              "        <line x1=\"400\" y1=\"250\" x2=\"400.0\" y2=\"220.0\" stroke-linecap=\"round\" style=\"stroke:blue;stroke-width:4\"/><line x1=\"400.0\" y1=\"220.0\" x2=\"389.739\" y2=\"191.809\" stroke-linecap=\"round\" style=\"stroke:blue;stroke-width:4\"/><line x1=\"389.739\" y1=\"191.809\" x2=\"370.455\" y2=\"168.828\" stroke-linecap=\"round\" style=\"stroke:blue;stroke-width:4\"/><line x1=\"370.455\" y1=\"168.828\" x2=\"344.474\" y2=\"153.828\" stroke-linecap=\"round\" style=\"stroke:blue;stroke-width:4\"/><line x1=\"344.474\" y1=\"153.828\" x2=\"314.93\" y2=\"148.619\" stroke-linecap=\"round\" style=\"stroke:blue;stroke-width:4\"/><line x1=\"314.93\" y1=\"148.619\" x2=\"285.386\" y2=\"153.828\" stroke-linecap=\"round\" style=\"stroke:blue;stroke-width:4\"/><line x1=\"285.386\" y1=\"153.828\" x2=\"259.405\" y2=\"168.828\" stroke-linecap=\"round\" style=\"stroke:blue;stroke-width:4\"/><line x1=\"259.405\" y1=\"168.828\" x2=\"240.121\" y2=\"191.809\" stroke-linecap=\"round\" style=\"stroke:blue;stroke-width:4\"/><line x1=\"240.121\" y1=\"191.809\" x2=\"229.86\" y2=\"220.0\" stroke-linecap=\"round\" style=\"stroke:blue;stroke-width:4\"/><line x1=\"229.86\" y1=\"220.0\" x2=\"229.86\" y2=\"250.0\" stroke-linecap=\"round\" style=\"stroke:blue;stroke-width:4\"/><line x1=\"229.86\" y1=\"250.0\" x2=\"240.121\" y2=\"278.191\" stroke-linecap=\"round\" style=\"stroke:blue;stroke-width:4\"/><line x1=\"240.121\" y1=\"278.191\" x2=\"259.405\" y2=\"301.172\" stroke-linecap=\"round\" style=\"stroke:blue;stroke-width:4\"/><line x1=\"259.405\" y1=\"301.172\" x2=\"285.386\" y2=\"316.172\" stroke-linecap=\"round\" style=\"stroke:blue;stroke-width:4\"/><line x1=\"285.386\" y1=\"316.172\" x2=\"314.93\" y2=\"321.381\" stroke-linecap=\"round\" style=\"stroke:blue;stroke-width:4\"/><line x1=\"314.93\" y1=\"321.381\" x2=\"344.474\" y2=\"316.172\" stroke-linecap=\"round\" style=\"stroke:blue;stroke-width:4\"/><line x1=\"344.474\" y1=\"316.172\" x2=\"370.455\" y2=\"301.172\" stroke-linecap=\"round\" style=\"stroke:blue;stroke-width:4\"/><line x1=\"370.455\" y1=\"301.172\" x2=\"389.739\" y2=\"278.191\" stroke-linecap=\"round\" style=\"stroke:blue;stroke-width:4\"/><line x1=\"389.739\" y1=\"278.191\" x2=\"400.0\" y2=\"250.0\" stroke-linecap=\"round\" style=\"stroke:blue;stroke-width:4\"/>\n",
              "        <g visibility=visible transform=\"rotate(360.0,400.0,250.0) translate(382.0, 232.0)\">\n",
              "<path style=\" stroke:none;fill-rule:evenodd;fill:blue;fill-opacity:1;\" d=\"M 18.214844 0.632812 C 16.109375 1.800781 15.011719 4.074219 15.074219 7.132812 L 15.085938 7.652344 L 14.785156 7.496094 C 13.476562 6.824219 11.957031 6.671875 10.40625 7.066406 C 8.46875 7.550781 6.515625 9.15625 4.394531 11.992188 C 3.0625 13.777344 2.679688 14.636719 3.042969 15.027344 L 3.15625 15.152344 L 3.519531 15.152344 C 4.238281 15.152344 4.828125 14.886719 8.1875 13.039062 C 9.386719 12.378906 10.371094 11.839844 10.378906 11.839844 C 10.386719 11.839844 10.355469 11.929688 10.304688 12.035156 C 9.832031 13.09375 9.257812 14.820312 8.96875 16.078125 C 7.914062 20.652344 8.617188 24.53125 11.070312 27.660156 C 11.351562 28.015625 11.363281 27.914062 10.972656 28.382812 C 8.925781 30.84375 7.945312 33.28125 8.238281 35.1875 C 8.289062 35.527344 8.28125 35.523438 8.917969 35.523438 C 10.941406 35.523438 13.074219 34.207031 15.136719 31.6875 C 15.359375 31.417969 15.328125 31.425781 15.5625 31.574219 C 16.292969 32.042969 18.023438 32.964844 18.175781 32.964844 C 18.335938 32.964844 19.941406 32.210938 20.828125 31.71875 C 20.996094 31.625 21.136719 31.554688 21.136719 31.558594 C 21.203125 31.664062 21.898438 32.414062 22.222656 32.730469 C 23.835938 34.300781 25.5625 35.132812 27.582031 35.300781 C 27.90625 35.328125 27.9375 35.308594 28.007812 34.984375 C 28.382812 33.242188 27.625 30.925781 25.863281 28.425781 L 25.542969 27.96875 L 25.699219 27.785156 C 28.945312 23.960938 29.132812 18.699219 26.257812 11.96875 L 26.207031 11.84375 L 27.945312 12.703125 C 31.53125 14.476562 32.316406 14.800781 33.03125 14.800781 C 33.976562 14.800781 33.78125 13.9375 32.472656 12.292969 C 28.519531 7.355469 25.394531 5.925781 21.921875 7.472656 L 21.558594 7.636719 L 21.578125 7.542969 C 21.699219 6.992188 21.761719 5.742188 21.699219 5.164062 C 21.496094 3.296875 20.664062 1.964844 19.003906 0.855469 C 18.480469 0.503906 18.457031 0.5 18.214844 0.632812\"/>\n",
              "</g>\n",
              "      </svg>\n",
              "    "
            ]
          },
          "metadata": {}
        },
        {
          "name": "stdout",
          "output_type": "stream",
          "text": [
            "Ingrese el numero de lados: 18\n"
          ]
        }
      ]
    },
    {
      "cell_type": "code",
      "source": [
        "initializeTurtle(initial_speed=7)\n",
        "colors_list = ['red', 'purple', 'blue', 'green', 'orange', 'yellow']\n",
        "\n",
        "for value in range(360):\n",
        "  pencolor(colors_list[value%6]) #Color\n",
        "  forward(value/1.5) #movimiento\n",
        "  left(90) #Direccion\n",
        "\n",
        "  for i in range(lados):\n",
        "    forward(20)\n",
        "    left(10)"
      ],
      "metadata": {
        "id": "Im-aNIojoLgW",
        "colab": {
          "base_uri": "https://localhost:8080/",
          "height": 868
        },
        "outputId": "6d386a5b-30b4-4d37-ff42-0c8b1d793a8f"
      },
      "execution_count": 26,
      "outputs": [
        {
          "output_type": "display_data",
          "data": {
            "text/plain": [
              "<IPython.core.display.HTML object>"
            ],
            "text/html": [
              "\n",
              "      <svg width=\"800\" height=\"500\">\n",
              "        <rect width=\"100%\" height=\"100%\" fill=\"black\"/>\n",
              "        <line x1=\"400\" y1=\"250\" x2=\"400.0\" y2=\"250.0\" stroke-linecap=\"round\" style=\"stroke:red;stroke-width:4\"/><line x1=\"400.0\" y1=\"250.0\" x2=\"380.0\" y2=\"250.0\" stroke-linecap=\"round\" style=\"stroke:red;stroke-width:4\"/><line x1=\"380.0\" y1=\"250.0\" x2=\"360.304\" y2=\"253.473\" stroke-linecap=\"round\" style=\"stroke:red;stroke-width:4\"/><line x1=\"360.304\" y1=\"253.473\" x2=\"341.51\" y2=\"260.313\" stroke-linecap=\"round\" style=\"stroke:red;stroke-width:4\"/><line x1=\"341.51\" y1=\"260.313\" x2=\"324.189\" y2=\"270.313\" stroke-linecap=\"round\" style=\"stroke:red;stroke-width:4\"/><line x1=\"324.189\" y1=\"270.313\" x2=\"308.868\" y2=\"283.169\" stroke-linecap=\"round\" style=\"stroke:red;stroke-width:4\"/><line x1=\"308.868\" y1=\"283.169\" x2=\"296.012\" y2=\"298.49\" stroke-linecap=\"round\" style=\"stroke:red;stroke-width:4\"/><line x1=\"296.012\" y1=\"298.49\" x2=\"286.012\" y2=\"315.811\" stroke-linecap=\"round\" style=\"stroke:red;stroke-width:4\"/><line x1=\"286.012\" y1=\"315.811\" x2=\"279.172\" y2=\"334.605\" stroke-linecap=\"round\" style=\"stroke:red;stroke-width:4\"/><line x1=\"279.172\" y1=\"334.605\" x2=\"275.699\" y2=\"354.301\" stroke-linecap=\"round\" style=\"stroke:red;stroke-width:4\"/><line x1=\"275.699\" y1=\"354.301\" x2=\"275.699\" y2=\"374.301\" stroke-linecap=\"round\" style=\"stroke:red;stroke-width:4\"/><line x1=\"275.699\" y1=\"374.301\" x2=\"279.172\" y2=\"393.997\" stroke-linecap=\"round\" style=\"stroke:red;stroke-width:4\"/><line x1=\"279.172\" y1=\"393.997\" x2=\"286.012\" y2=\"412.791\" stroke-linecap=\"round\" style=\"stroke:red;stroke-width:4\"/><line x1=\"286.012\" y1=\"412.791\" x2=\"296.012\" y2=\"430.112\" stroke-linecap=\"round\" style=\"stroke:red;stroke-width:4\"/><line x1=\"296.012\" y1=\"430.112\" x2=\"308.868\" y2=\"445.433\" stroke-linecap=\"round\" style=\"stroke:red;stroke-width:4\"/><line x1=\"308.868\" y1=\"445.433\" x2=\"324.189\" y2=\"458.289\" stroke-linecap=\"round\" style=\"stroke:red;stroke-width:4\"/><line x1=\"324.189\" y1=\"458.289\" x2=\"341.51\" y2=\"468.289\" stroke-linecap=\"round\" style=\"stroke:red;stroke-width:4\"/><line x1=\"341.51\" y1=\"468.289\" x2=\"360.304\" y2=\"475.129\" stroke-linecap=\"round\" style=\"stroke:red;stroke-width:4\"/><line x1=\"360.304\" y1=\"475.129\" x2=\"380.0\" y2=\"478.602\" stroke-linecap=\"round\" style=\"stroke:red;stroke-width:4\"/><line x1=\"380.0\" y1=\"478.602\" x2=\"380.667\" y2=\"478.602\" stroke-linecap=\"round\" style=\"stroke:purple;stroke-width:4\"/><line x1=\"380.667\" y1=\"478.602\" x2=\"380.667\" y2=\"458.602\" stroke-linecap=\"round\" style=\"stroke:purple;stroke-width:4\"/><line x1=\"380.667\" y1=\"458.602\" x2=\"377.194\" y2=\"438.906\" stroke-linecap=\"round\" style=\"stroke:purple;stroke-width:4\"/><line x1=\"377.194\" y1=\"438.906\" x2=\"370.354\" y2=\"420.112\" stroke-linecap=\"round\" style=\"stroke:purple;stroke-width:4\"/><line x1=\"370.354\" y1=\"420.112\" x2=\"360.354\" y2=\"402.791\" stroke-linecap=\"round\" style=\"stroke:purple;stroke-width:4\"/><line x1=\"360.354\" y1=\"402.791\" x2=\"347.498\" y2=\"387.47\" stroke-linecap=\"round\" style=\"stroke:purple;stroke-width:4\"/><line x1=\"347.498\" y1=\"387.47\" x2=\"332.177\" y2=\"374.614\" stroke-linecap=\"round\" style=\"stroke:purple;stroke-width:4\"/><line x1=\"332.177\" y1=\"374.614\" x2=\"314.856\" y2=\"364.614\" stroke-linecap=\"round\" style=\"stroke:purple;stroke-width:4\"/><line x1=\"314.856\" y1=\"364.614\" x2=\"296.062\" y2=\"357.774\" stroke-linecap=\"round\" style=\"stroke:purple;stroke-width:4\"/><line x1=\"296.062\" y1=\"357.774\" x2=\"276.366\" y2=\"354.301\" stroke-linecap=\"round\" style=\"stroke:purple;stroke-width:4\"/><line x1=\"276.366\" y1=\"354.301\" x2=\"256.366\" y2=\"354.301\" stroke-linecap=\"round\" style=\"stroke:purple;stroke-width:4\"/><line x1=\"256.366\" y1=\"354.301\" x2=\"236.67\" y2=\"357.774\" stroke-linecap=\"round\" style=\"stroke:purple;stroke-width:4\"/><line x1=\"236.67\" y1=\"357.774\" x2=\"217.876\" y2=\"364.614\" stroke-linecap=\"round\" style=\"stroke:purple;stroke-width:4\"/><line x1=\"217.876\" y1=\"364.614\" x2=\"200.555\" y2=\"374.614\" stroke-linecap=\"round\" style=\"stroke:purple;stroke-width:4\"/><line x1=\"200.555\" y1=\"374.614\" x2=\"185.234\" y2=\"387.47\" stroke-linecap=\"round\" style=\"stroke:purple;stroke-width:4\"/><line x1=\"185.234\" y1=\"387.47\" x2=\"172.378\" y2=\"402.791\" stroke-linecap=\"round\" style=\"stroke:purple;stroke-width:4\"/><line x1=\"172.378\" y1=\"402.791\" x2=\"162.378\" y2=\"420.112\" stroke-linecap=\"round\" style=\"stroke:purple;stroke-width:4\"/><line x1=\"162.378\" y1=\"420.112\" x2=\"155.538\" y2=\"438.906\" stroke-linecap=\"round\" style=\"stroke:purple;stroke-width:4\"/><line x1=\"155.538\" y1=\"438.906\" x2=\"152.065\" y2=\"458.602\" stroke-linecap=\"round\" style=\"stroke:purple;stroke-width:4\"/><line x1=\"152.065\" y1=\"458.602\" x2=\"152.065\" y2=\"459.935\" stroke-linecap=\"round\" style=\"stroke:blue;stroke-width:4\"/><line x1=\"152.065\" y1=\"459.935\" x2=\"172.065\" y2=\"459.935\" stroke-linecap=\"round\" style=\"stroke:blue;stroke-width:4\"/><line x1=\"172.065\" y1=\"459.935\" x2=\"191.761\" y2=\"456.462\" stroke-linecap=\"round\" style=\"stroke:blue;stroke-width:4\"/><line x1=\"191.761\" y1=\"456.462\" x2=\"210.555\" y2=\"449.622\" stroke-linecap=\"round\" style=\"stroke:blue;stroke-width:4\"/><line x1=\"210.555\" y1=\"449.622\" x2=\"227.876\" y2=\"439.622\" stroke-linecap=\"round\" style=\"stroke:blue;stroke-width:4\"/><line x1=\"227.876\" y1=\"439.622\" x2=\"243.197\" y2=\"426.766\" stroke-linecap=\"round\" style=\"stroke:blue;stroke-width:4\"/><line x1=\"243.197\" y1=\"426.766\" x2=\"256.053\" y2=\"411.445\" stroke-linecap=\"round\" style=\"stroke:blue;stroke-width:4\"/><line x1=\"256.053\" y1=\"411.445\" x2=\"266.053\" y2=\"394.124\" stroke-linecap=\"round\" style=\"stroke:blue;stroke-width:4\"/><line x1=\"266.053\" y1=\"394.124\" x2=\"272.893\" y2=\"375.33\" stroke-linecap=\"round\" style=\"stroke:blue;stroke-width:4\"/><line x1=\"272.893\" y1=\"375.33\" x2=\"276.366\" y2=\"355.634\" stroke-linecap=\"round\" style=\"stroke:blue;stroke-width:4\"/><line x1=\"276.366\" y1=\"355.634\" x2=\"276.366\" y2=\"335.634\" stroke-linecap=\"round\" style=\"stroke:blue;stroke-width:4\"/><line x1=\"276.366\" y1=\"335.634\" x2=\"272.893\" y2=\"315.938\" stroke-linecap=\"round\" style=\"stroke:blue;stroke-width:4\"/><line x1=\"272.893\" y1=\"315.938\" x2=\"266.053\" y2=\"297.144\" stroke-linecap=\"round\" style=\"stroke:blue;stroke-width:4\"/><line x1=\"266.053\" y1=\"297.144\" x2=\"256.053\" y2=\"279.823\" stroke-linecap=\"round\" style=\"stroke:blue;stroke-width:4\"/><line x1=\"256.053\" y1=\"279.823\" x2=\"243.197\" y2=\"264.502\" stroke-linecap=\"round\" style=\"stroke:blue;stroke-width:4\"/><line x1=\"243.197\" y1=\"264.502\" x2=\"227.876\" y2=\"251.646\" stroke-linecap=\"round\" style=\"stroke:blue;stroke-width:4\"/><line x1=\"227.876\" y1=\"251.646\" x2=\"210.555\" y2=\"241.646\" stroke-linecap=\"round\" style=\"stroke:blue;stroke-width:4\"/><line x1=\"210.555\" y1=\"241.646\" x2=\"191.761\" y2=\"234.806\" stroke-linecap=\"round\" style=\"stroke:blue;stroke-width:4\"/><line x1=\"191.761\" y1=\"234.806\" x2=\"172.065\" y2=\"231.333\" stroke-linecap=\"round\" style=\"stroke:blue;stroke-width:4\"/><line x1=\"172.065\" y1=\"231.333\" x2=\"170.065\" y2=\"231.333\" stroke-linecap=\"round\" style=\"stroke:green;stroke-width:4\"/><line x1=\"170.065\" y1=\"231.333\" x2=\"170.065\" y2=\"251.333\" stroke-linecap=\"round\" style=\"stroke:green;stroke-width:4\"/><line x1=\"170.065\" y1=\"251.333\" x2=\"173.538\" y2=\"271.029\" stroke-linecap=\"round\" style=\"stroke:green;stroke-width:4\"/><line x1=\"173.538\" y1=\"271.029\" x2=\"180.378\" y2=\"289.823\" stroke-linecap=\"round\" style=\"stroke:green;stroke-width:4\"/><line x1=\"180.378\" y1=\"289.823\" x2=\"190.378\" y2=\"307.144\" stroke-linecap=\"round\" style=\"stroke:green;stroke-width:4\"/><line x1=\"190.378\" y1=\"307.144\" x2=\"203.234\" y2=\"322.465\" stroke-linecap=\"round\" style=\"stroke:green;stroke-width:4\"/><line x1=\"203.234\" y1=\"322.465\" x2=\"218.555\" y2=\"335.321\" stroke-linecap=\"round\" style=\"stroke:green;stroke-width:4\"/><line x1=\"218.555\" y1=\"335.321\" x2=\"235.876\" y2=\"345.321\" stroke-linecap=\"round\" style=\"stroke:green;stroke-width:4\"/><line x1=\"235.876\" y1=\"345.321\" x2=\"254.67\" y2=\"352.161\" stroke-linecap=\"round\" style=\"stroke:green;stroke-width:4\"/><line x1=\"254.67\" y1=\"352.161\" x2=\"274.366\" y2=\"355.634\" stroke-linecap=\"round\" style=\"stroke:green;stroke-width:4\"/><line x1=\"274.366\" y1=\"355.634\" x2=\"294.366\" y2=\"355.634\" stroke-linecap=\"round\" style=\"stroke:green;stroke-width:4\"/><line x1=\"294.366\" y1=\"355.634\" x2=\"314.062\" y2=\"352.161\" stroke-linecap=\"round\" style=\"stroke:green;stroke-width:4\"/><line x1=\"314.062\" y1=\"352.161\" x2=\"332.856\" y2=\"345.321\" stroke-linecap=\"round\" style=\"stroke:green;stroke-width:4\"/><line x1=\"332.856\" y1=\"345.321\" x2=\"350.177\" y2=\"335.321\" stroke-linecap=\"round\" style=\"stroke:green;stroke-width:4\"/><line x1=\"350.177\" y1=\"335.321\" x2=\"365.498\" y2=\"322.465\" stroke-linecap=\"round\" style=\"stroke:green;stroke-width:4\"/><line x1=\"365.498\" y1=\"322.465\" x2=\"378.354\" y2=\"307.144\" stroke-linecap=\"round\" style=\"stroke:green;stroke-width:4\"/><line x1=\"378.354\" y1=\"307.144\" x2=\"388.354\" y2=\"289.823\" stroke-linecap=\"round\" style=\"stroke:green;stroke-width:4\"/><line x1=\"388.354\" y1=\"289.823\" x2=\"395.194\" y2=\"271.029\" stroke-linecap=\"round\" style=\"stroke:green;stroke-width:4\"/><line x1=\"395.194\" y1=\"271.029\" x2=\"398.667\" y2=\"251.333\" stroke-linecap=\"round\" style=\"stroke:green;stroke-width:4\"/><line x1=\"398.667\" y1=\"251.333\" x2=\"398.667\" y2=\"248.666\" stroke-linecap=\"round\" style=\"stroke:orange;stroke-width:4\"/><line x1=\"398.667\" y1=\"248.666\" x2=\"378.667\" y2=\"248.666\" stroke-linecap=\"round\" style=\"stroke:orange;stroke-width:4\"/><line x1=\"378.667\" y1=\"248.666\" x2=\"358.971\" y2=\"252.139\" stroke-linecap=\"round\" style=\"stroke:orange;stroke-width:4\"/><line x1=\"358.971\" y1=\"252.139\" x2=\"340.177\" y2=\"258.979\" stroke-linecap=\"round\" style=\"stroke:orange;stroke-width:4\"/><line x1=\"340.177\" y1=\"258.979\" x2=\"322.856\" y2=\"268.979\" stroke-linecap=\"round\" style=\"stroke:orange;stroke-width:4\"/><line x1=\"322.856\" y1=\"268.979\" x2=\"307.535\" y2=\"281.835\" stroke-linecap=\"round\" style=\"stroke:orange;stroke-width:4\"/><line x1=\"307.535\" y1=\"281.835\" x2=\"294.679\" y2=\"297.156\" stroke-linecap=\"round\" style=\"stroke:orange;stroke-width:4\"/><line x1=\"294.679\" y1=\"297.156\" x2=\"284.679\" y2=\"314.477\" stroke-linecap=\"round\" style=\"stroke:orange;stroke-width:4\"/><line x1=\"284.679\" y1=\"314.477\" x2=\"277.839\" y2=\"333.271\" stroke-linecap=\"round\" style=\"stroke:orange;stroke-width:4\"/><line x1=\"277.839\" y1=\"333.271\" x2=\"274.366\" y2=\"352.967\" stroke-linecap=\"round\" style=\"stroke:orange;stroke-width:4\"/><line x1=\"274.366\" y1=\"352.967\" x2=\"274.366\" y2=\"372.967\" stroke-linecap=\"round\" style=\"stroke:orange;stroke-width:4\"/><line x1=\"274.366\" y1=\"372.967\" x2=\"277.839\" y2=\"392.663\" stroke-linecap=\"round\" style=\"stroke:orange;stroke-width:4\"/><line x1=\"277.839\" y1=\"392.663\" x2=\"284.679\" y2=\"411.457\" stroke-linecap=\"round\" style=\"stroke:orange;stroke-width:4\"/><line x1=\"284.679\" y1=\"411.457\" x2=\"294.679\" y2=\"428.778\" stroke-linecap=\"round\" style=\"stroke:orange;stroke-width:4\"/><line x1=\"294.679\" y1=\"428.778\" x2=\"307.535\" y2=\"444.099\" stroke-linecap=\"round\" style=\"stroke:orange;stroke-width:4\"/><line x1=\"307.535\" y1=\"444.099\" x2=\"322.856\" y2=\"456.955\" stroke-linecap=\"round\" style=\"stroke:orange;stroke-width:4\"/><line x1=\"322.856\" y1=\"456.955\" x2=\"340.177\" y2=\"466.955\" stroke-linecap=\"round\" style=\"stroke:orange;stroke-width:4\"/><line x1=\"340.177\" y1=\"466.955\" x2=\"358.971\" y2=\"473.795\" stroke-linecap=\"round\" style=\"stroke:orange;stroke-width:4\"/><line x1=\"358.971\" y1=\"473.795\" x2=\"378.667\" y2=\"477.268\" stroke-linecap=\"round\" style=\"stroke:orange;stroke-width:4\"/><line x1=\"378.667\" y1=\"477.268\" x2=\"382.0\" y2=\"477.268\" stroke-linecap=\"round\" style=\"stroke:yellow;stroke-width:4\"/><line x1=\"382.0\" y1=\"477.268\" x2=\"382.0\" y2=\"457.268\" stroke-linecap=\"round\" style=\"stroke:yellow;stroke-width:4\"/><line x1=\"382.0\" y1=\"457.268\" x2=\"378.527\" y2=\"437.572\" stroke-linecap=\"round\" style=\"stroke:yellow;stroke-width:4\"/><line x1=\"378.527\" y1=\"437.572\" x2=\"371.687\" y2=\"418.778\" stroke-linecap=\"round\" style=\"stroke:yellow;stroke-width:4\"/><line x1=\"371.687\" y1=\"418.778\" x2=\"361.687\" y2=\"401.457\" stroke-linecap=\"round\" style=\"stroke:yellow;stroke-width:4\"/><line x1=\"361.687\" y1=\"401.457\" x2=\"348.831\" y2=\"386.136\" stroke-linecap=\"round\" style=\"stroke:yellow;stroke-width:4\"/><line x1=\"348.831\" y1=\"386.136\" x2=\"333.51\" y2=\"373.28\" stroke-linecap=\"round\" style=\"stroke:yellow;stroke-width:4\"/><line x1=\"333.51\" y1=\"373.28\" x2=\"316.189\" y2=\"363.28\" stroke-linecap=\"round\" style=\"stroke:yellow;stroke-width:4\"/><line x1=\"316.189\" y1=\"363.28\" x2=\"297.395\" y2=\"356.44\" stroke-linecap=\"round\" style=\"stroke:yellow;stroke-width:4\"/><line x1=\"297.395\" y1=\"356.44\" x2=\"277.699\" y2=\"352.967\" stroke-linecap=\"round\" style=\"stroke:yellow;stroke-width:4\"/><line x1=\"277.699\" y1=\"352.967\" x2=\"257.699\" y2=\"352.967\" stroke-linecap=\"round\" style=\"stroke:yellow;stroke-width:4\"/><line x1=\"257.699\" y1=\"352.967\" x2=\"238.003\" y2=\"356.44\" stroke-linecap=\"round\" style=\"stroke:yellow;stroke-width:4\"/><line x1=\"238.003\" y1=\"356.44\" x2=\"219.209\" y2=\"363.28\" stroke-linecap=\"round\" style=\"stroke:yellow;stroke-width:4\"/><line x1=\"219.209\" y1=\"363.28\" x2=\"201.888\" y2=\"373.28\" stroke-linecap=\"round\" style=\"stroke:yellow;stroke-width:4\"/><line x1=\"201.888\" y1=\"373.28\" x2=\"186.567\" y2=\"386.136\" stroke-linecap=\"round\" style=\"stroke:yellow;stroke-width:4\"/><line x1=\"186.567\" y1=\"386.136\" x2=\"173.711\" y2=\"401.457\" stroke-linecap=\"round\" style=\"stroke:yellow;stroke-width:4\"/><line x1=\"173.711\" y1=\"401.457\" x2=\"163.711\" y2=\"418.778\" stroke-linecap=\"round\" style=\"stroke:yellow;stroke-width:4\"/><line x1=\"163.711\" y1=\"418.778\" x2=\"156.871\" y2=\"437.572\" stroke-linecap=\"round\" style=\"stroke:yellow;stroke-width:4\"/><line x1=\"156.871\" y1=\"437.572\" x2=\"153.398\" y2=\"457.268\" stroke-linecap=\"round\" style=\"stroke:yellow;stroke-width:4\"/><line x1=\"153.398\" y1=\"457.268\" x2=\"153.398\" y2=\"461.268\" stroke-linecap=\"round\" style=\"stroke:red;stroke-width:4\"/><line x1=\"153.398\" y1=\"461.268\" x2=\"173.398\" y2=\"461.268\" stroke-linecap=\"round\" style=\"stroke:red;stroke-width:4\"/><line x1=\"173.398\" y1=\"461.268\" x2=\"193.094\" y2=\"457.795\" stroke-linecap=\"round\" style=\"stroke:red;stroke-width:4\"/><line x1=\"193.094\" y1=\"457.795\" x2=\"211.888\" y2=\"450.955\" stroke-linecap=\"round\" style=\"stroke:red;stroke-width:4\"/><line x1=\"211.888\" y1=\"450.955\" x2=\"229.209\" y2=\"440.955\" stroke-linecap=\"round\" style=\"stroke:red;stroke-width:4\"/><line x1=\"229.209\" y1=\"440.955\" x2=\"244.53\" y2=\"428.099\" stroke-linecap=\"round\" style=\"stroke:red;stroke-width:4\"/><line x1=\"244.53\" y1=\"428.099\" x2=\"257.386\" y2=\"412.778\" stroke-linecap=\"round\" style=\"stroke:red;stroke-width:4\"/><line x1=\"257.386\" y1=\"412.778\" x2=\"267.386\" y2=\"395.457\" stroke-linecap=\"round\" style=\"stroke:red;stroke-width:4\"/><line x1=\"267.386\" y1=\"395.457\" x2=\"274.226\" y2=\"376.663\" stroke-linecap=\"round\" style=\"stroke:red;stroke-width:4\"/><line x1=\"274.226\" y1=\"376.663\" x2=\"277.699\" y2=\"356.967\" stroke-linecap=\"round\" style=\"stroke:red;stroke-width:4\"/><line x1=\"277.699\" y1=\"356.967\" x2=\"277.699\" y2=\"336.967\" stroke-linecap=\"round\" style=\"stroke:red;stroke-width:4\"/><line x1=\"277.699\" y1=\"336.967\" x2=\"274.226\" y2=\"317.271\" stroke-linecap=\"round\" style=\"stroke:red;stroke-width:4\"/><line x1=\"274.226\" y1=\"317.271\" x2=\"267.386\" y2=\"298.477\" stroke-linecap=\"round\" style=\"stroke:red;stroke-width:4\"/><line x1=\"267.386\" y1=\"298.477\" x2=\"257.386\" y2=\"281.156\" stroke-linecap=\"round\" style=\"stroke:red;stroke-width:4\"/><line x1=\"257.386\" y1=\"281.156\" x2=\"244.53\" y2=\"265.835\" stroke-linecap=\"round\" style=\"stroke:red;stroke-width:4\"/><line x1=\"244.53\" y1=\"265.835\" x2=\"229.209\" y2=\"252.979\" stroke-linecap=\"round\" style=\"stroke:red;stroke-width:4\"/><line x1=\"229.209\" y1=\"252.979\" x2=\"211.888\" y2=\"242.979\" stroke-linecap=\"round\" style=\"stroke:red;stroke-width:4\"/><line x1=\"211.888\" y1=\"242.979\" x2=\"193.094\" y2=\"236.139\" stroke-linecap=\"round\" style=\"stroke:red;stroke-width:4\"/><line x1=\"193.094\" y1=\"236.139\" x2=\"173.398\" y2=\"232.666\" stroke-linecap=\"round\" style=\"stroke:red;stroke-width:4\"/><line x1=\"173.398\" y1=\"232.666\" x2=\"168.731\" y2=\"232.666\" stroke-linecap=\"round\" style=\"stroke:purple;stroke-width:4\"/>\n",
              "        <g visibility=visible transform=\"rotate(180,168.731,232.666) translate(150.731, 214.666)\">\n",
              "<path style=\" stroke:none;fill-rule:evenodd;fill:purple;fill-opacity:1;\" d=\"M 18.214844 0.632812 C 16.109375 1.800781 15.011719 4.074219 15.074219 7.132812 L 15.085938 7.652344 L 14.785156 7.496094 C 13.476562 6.824219 11.957031 6.671875 10.40625 7.066406 C 8.46875 7.550781 6.515625 9.15625 4.394531 11.992188 C 3.0625 13.777344 2.679688 14.636719 3.042969 15.027344 L 3.15625 15.152344 L 3.519531 15.152344 C 4.238281 15.152344 4.828125 14.886719 8.1875 13.039062 C 9.386719 12.378906 10.371094 11.839844 10.378906 11.839844 C 10.386719 11.839844 10.355469 11.929688 10.304688 12.035156 C 9.832031 13.09375 9.257812 14.820312 8.96875 16.078125 C 7.914062 20.652344 8.617188 24.53125 11.070312 27.660156 C 11.351562 28.015625 11.363281 27.914062 10.972656 28.382812 C 8.925781 30.84375 7.945312 33.28125 8.238281 35.1875 C 8.289062 35.527344 8.28125 35.523438 8.917969 35.523438 C 10.941406 35.523438 13.074219 34.207031 15.136719 31.6875 C 15.359375 31.417969 15.328125 31.425781 15.5625 31.574219 C 16.292969 32.042969 18.023438 32.964844 18.175781 32.964844 C 18.335938 32.964844 19.941406 32.210938 20.828125 31.71875 C 20.996094 31.625 21.136719 31.554688 21.136719 31.558594 C 21.203125 31.664062 21.898438 32.414062 22.222656 32.730469 C 23.835938 34.300781 25.5625 35.132812 27.582031 35.300781 C 27.90625 35.328125 27.9375 35.308594 28.007812 34.984375 C 28.382812 33.242188 27.625 30.925781 25.863281 28.425781 L 25.542969 27.96875 L 25.699219 27.785156 C 28.945312 23.960938 29.132812 18.699219 26.257812 11.96875 L 26.207031 11.84375 L 27.945312 12.703125 C 31.53125 14.476562 32.316406 14.800781 33.03125 14.800781 C 33.976562 14.800781 33.78125 13.9375 32.472656 12.292969 C 28.519531 7.355469 25.394531 5.925781 21.921875 7.472656 L 21.558594 7.636719 L 21.578125 7.542969 C 21.699219 6.992188 21.761719 5.742188 21.699219 5.164062 C 21.496094 3.296875 20.664062 1.964844 19.003906 0.855469 C 18.480469 0.503906 18.457031 0.5 18.214844 0.632812\"/>\n",
              "</g>\n",
              "      </svg>\n",
              "    "
            ]
          },
          "metadata": {}
        },
        {
          "output_type": "error",
          "ename": "KeyboardInterrupt",
          "evalue": "ignored",
          "traceback": [
            "\u001b[0;31m---------------------------------------------------------------------------\u001b[0m",
            "\u001b[0;31mKeyboardInterrupt\u001b[0m                         Traceback (most recent call last)",
            "\u001b[0;32m<ipython-input-26-1bed9d41085d>\u001b[0m in \u001b[0;36m<cell line: 4>\u001b[0;34m()\u001b[0m\n\u001b[1;32m      8\u001b[0m \u001b[0;34m\u001b[0m\u001b[0m\n\u001b[1;32m      9\u001b[0m   \u001b[0;32mfor\u001b[0m \u001b[0mi\u001b[0m \u001b[0;32min\u001b[0m \u001b[0mrange\u001b[0m\u001b[0;34m(\u001b[0m\u001b[0mlados\u001b[0m\u001b[0;34m)\u001b[0m\u001b[0;34m:\u001b[0m\u001b[0;34m\u001b[0m\u001b[0;34m\u001b[0m\u001b[0m\n\u001b[0;32m---> 10\u001b[0;31m     \u001b[0mforward\u001b[0m\u001b[0;34m(\u001b[0m\u001b[0;36m20\u001b[0m\u001b[0;34m)\u001b[0m\u001b[0;34m\u001b[0m\u001b[0;34m\u001b[0m\u001b[0m\n\u001b[0m\u001b[1;32m     11\u001b[0m     \u001b[0mleft\u001b[0m\u001b[0;34m(\u001b[0m\u001b[0;36m10\u001b[0m\u001b[0;34m)\u001b[0m\u001b[0;34m\u001b[0m\u001b[0;34m\u001b[0m\u001b[0m\n",
            "\u001b[0;32m/usr/local/lib/python3.10/dist-packages/ColabTurtle/Turtle.py\u001b[0m in \u001b[0;36mforward\u001b[0;34m(units)\u001b[0m\n\u001b[1;32m    172\u001b[0m     \u001b[0mending_point\u001b[0m \u001b[0;34m=\u001b[0m \u001b[0;34m(\u001b[0m\u001b[0mturtle_pos\u001b[0m\u001b[0;34m[\u001b[0m\u001b[0;36m0\u001b[0m\u001b[0;34m]\u001b[0m \u001b[0;34m+\u001b[0m \u001b[0munits\u001b[0m \u001b[0;34m*\u001b[0m \u001b[0mmath\u001b[0m\u001b[0;34m.\u001b[0m\u001b[0mcos\u001b[0m\u001b[0;34m(\u001b[0m\u001b[0malpha\u001b[0m\u001b[0;34m)\u001b[0m\u001b[0;34m,\u001b[0m \u001b[0mturtle_pos\u001b[0m\u001b[0;34m[\u001b[0m\u001b[0;36m1\u001b[0m\u001b[0;34m]\u001b[0m \u001b[0;34m+\u001b[0m \u001b[0munits\u001b[0m \u001b[0;34m*\u001b[0m \u001b[0mmath\u001b[0m\u001b[0;34m.\u001b[0m\u001b[0msin\u001b[0m\u001b[0;34m(\u001b[0m\u001b[0malpha\u001b[0m\u001b[0;34m)\u001b[0m\u001b[0;34m)\u001b[0m\u001b[0;34m\u001b[0m\u001b[0;34m\u001b[0m\u001b[0m\n\u001b[1;32m    173\u001b[0m \u001b[0;34m\u001b[0m\u001b[0m\n\u001b[0;32m--> 174\u001b[0;31m     \u001b[0m_moveToNewPosition\u001b[0m\u001b[0;34m(\u001b[0m\u001b[0mending_point\u001b[0m\u001b[0;34m)\u001b[0m\u001b[0;34m\u001b[0m\u001b[0;34m\u001b[0m\u001b[0m\n\u001b[0m\u001b[1;32m    175\u001b[0m \u001b[0;34m\u001b[0m\u001b[0m\n\u001b[1;32m    176\u001b[0m \u001b[0mfd\u001b[0m \u001b[0;34m=\u001b[0m \u001b[0mforward\u001b[0m \u001b[0;31m# alias\u001b[0m\u001b[0;34m\u001b[0m\u001b[0;34m\u001b[0m\u001b[0m\n",
            "\u001b[0;32m/usr/local/lib/python3.10/dist-packages/ColabTurtle/Turtle.py\u001b[0m in \u001b[0;36m_moveToNewPosition\u001b[0;34m(new_pos)\u001b[0m\n\u001b[1;32m    161\u001b[0m \u001b[0;34m\u001b[0m\u001b[0m\n\u001b[1;32m    162\u001b[0m     \u001b[0mturtle_pos\u001b[0m \u001b[0;34m=\u001b[0m \u001b[0mnew_pos\u001b[0m\u001b[0;34m\u001b[0m\u001b[0;34m\u001b[0m\u001b[0m\n\u001b[0;32m--> 163\u001b[0;31m     \u001b[0m_updateDrawing\u001b[0m\u001b[0;34m(\u001b[0m\u001b[0;34m)\u001b[0m\u001b[0;34m\u001b[0m\u001b[0;34m\u001b[0m\u001b[0m\n\u001b[0m\u001b[1;32m    164\u001b[0m \u001b[0;34m\u001b[0m\u001b[0m\n\u001b[1;32m    165\u001b[0m \u001b[0;34m\u001b[0m\u001b[0m\n",
            "\u001b[0;32m/usr/local/lib/python3.10/dist-packages/ColabTurtle/Turtle.py\u001b[0m in \u001b[0;36m_updateDrawing\u001b[0;34m()\u001b[0m\n\u001b[1;32m    143\u001b[0m     \u001b[0;32mif\u001b[0m \u001b[0mdrawing_window\u001b[0m \u001b[0;34m==\u001b[0m \u001b[0;32mNone\u001b[0m\u001b[0;34m:\u001b[0m\u001b[0;34m\u001b[0m\u001b[0;34m\u001b[0m\u001b[0m\n\u001b[1;32m    144\u001b[0m         \u001b[0;32mraise\u001b[0m \u001b[0mAttributeError\u001b[0m\u001b[0;34m(\u001b[0m\u001b[0;34m\"Display has not been initialized yet. Call initializeTurtle() before using.\"\u001b[0m\u001b[0;34m)\u001b[0m\u001b[0;34m\u001b[0m\u001b[0;34m\u001b[0m\u001b[0m\n\u001b[0;32m--> 145\u001b[0;31m     \u001b[0mtime\u001b[0m\u001b[0;34m.\u001b[0m\u001b[0msleep\u001b[0m\u001b[0;34m(\u001b[0m\u001b[0m_speedToSec\u001b[0m\u001b[0;34m(\u001b[0m\u001b[0mturtle_speed\u001b[0m\u001b[0;34m)\u001b[0m\u001b[0;34m)\u001b[0m\u001b[0;34m\u001b[0m\u001b[0;34m\u001b[0m\u001b[0m\n\u001b[0m\u001b[1;32m    146\u001b[0m     \u001b[0mdrawing_window\u001b[0m\u001b[0;34m.\u001b[0m\u001b[0mupdate\u001b[0m\u001b[0;34m(\u001b[0m\u001b[0mHTML\u001b[0m\u001b[0;34m(\u001b[0m\u001b[0m_generateSvgDrawing\u001b[0m\u001b[0;34m(\u001b[0m\u001b[0;34m)\u001b[0m\u001b[0;34m)\u001b[0m\u001b[0;34m)\u001b[0m\u001b[0;34m\u001b[0m\u001b[0;34m\u001b[0m\u001b[0m\n\u001b[1;32m    147\u001b[0m \u001b[0;34m\u001b[0m\u001b[0m\n",
            "\u001b[0;31mKeyboardInterrupt\u001b[0m: "
          ]
        }
      ]
    },
    {
      "cell_type": "code",
      "source": [],
      "metadata": {
        "id": "I5e5-tqIrrQt"
      },
      "execution_count": null,
      "outputs": []
    }
  ]
}