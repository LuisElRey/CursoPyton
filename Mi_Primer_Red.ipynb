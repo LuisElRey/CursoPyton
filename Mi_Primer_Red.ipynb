{
  "nbformat": 4,
  "nbformat_minor": 0,
  "metadata": {
    "colab": {
      "provenance": [],
      "authorship_tag": "ABX9TyMo6CqJMggVZ3lMV4OPZ7Nd",
      "include_colab_link": true
    },
    "kernelspec": {
      "name": "python3",
      "display_name": "Python 3"
    },
    "language_info": {
      "name": "python"
    }
  },
  "cells": [
    {
      "cell_type": "markdown",
      "metadata": {
        "id": "view-in-github",
        "colab_type": "text"
      },
      "source": [
        "<a href=\"https://colab.research.google.com/github/LuisElRey/CursoPyton/blob/main/Mi_Primer_Red.ipynb\" target=\"_parent\"><img src=\"https://colab.research.google.com/assets/colab-badge.svg\" alt=\"Open In Colab\"/></a>"
      ]
    },
    {
      "cell_type": "markdown",
      "source": [
        "# Grados Celsius a Farenheit"
      ],
      "metadata": {
        "id": "ZEwfVkESiSP1"
      }
    },
    {
      "cell_type": "code",
      "execution_count": 3,
      "metadata": {
        "id": "dmJMiUqLZM0H"
      },
      "outputs": [],
      "source": [
        "#tensorflow se encarga del aprendisaje profundo\n",
        "import tensorflow as tf\n",
        "#numpy maneja arreglos de forma eficiente\n",
        "import numpy as np"
      ]
    },
    {
      "cell_type": "code",
      "source": [
        "#Arreglo de grados Celcius\n",
        "celcius = np.array([-40, -10, 0, 8, 15, 22, 38], dtype=float)\n",
        "#Arreglo de grados fahrenheit\n",
        "fahrenheit = np.array([-40, 14, 32, 46, 59, 72, 100], dtype=float)\n",
        "\n",
        "#Definiendo capa con un solo nodo\n",
        "capa = tf.keras.layers.Dense(units=1, input_shape=[1])\n",
        "#El modelo se organiza de forma secuencial\n",
        "modelo = tf.keras.Sequential([capa])"
      ],
      "metadata": {
        "id": "axM7kBGmaLjp"
      },
      "execution_count": 4,
      "outputs": []
    },
    {
      "cell_type": "code",
      "source": [
        "modelo.compile(\n",
        "    #Optimiza los pesos del codigo (Poco pero gran cambio = malo,\n",
        "    #Mucho pero pequenio cambio = bueno)\n",
        "     optimizer = tf.keras.optimizers.Adam(0.1),\n",
        "     loss = 'mean_squared_error'\n",
        " )"
      ],
      "metadata": {
        "id": "MTVuxgoubq3N"
      },
      "execution_count": 6,
      "outputs": []
    },
    {
      "cell_type": "code",
      "source": [
        "#Comienza con el entrenamiento\n",
        "print('Comenzando entrenamiento...')\n",
        "#Se establece cuantos entrenamientos va a hacer (epochs=1000)\n",
        "historial = modelo.fit(celcius, fahrenheit, epochs=1000, verbose=False)\n",
        "print('Modelo entrenado!')"
      ],
      "metadata": {
        "colab": {
          "base_uri": "https://localhost:8080/"
        },
        "id": "ybKI-sIYcWr-",
        "outputId": "760dabf2-e6d1-4bae-e82a-6f27f8f0747a"
      },
      "execution_count": 7,
      "outputs": [
        {
          "output_type": "stream",
          "name": "stdout",
          "text": [
            "Comenzando entrenamiento...\n",
            "Modelo entrenado!\n"
          ]
        }
      ]
    },
    {
      "cell_type": "code",
      "source": [
        "#Se grafica el entrenamiento del modelo\n",
        "import matplotlib.pyplot as plt\n",
        "plt.xlabel('# Epoca')\n",
        "plt.ylabel('Magnitud de perdida')\n",
        "plt.plot(historial.history['loss'])"
      ],
      "metadata": {
        "colab": {
          "base_uri": "https://localhost:8080/",
          "height": 466
        },
        "id": "zpSeNr4vf85g",
        "outputId": "48db5aa3-00a7-4532-f451-5a7a2f51f338"
      },
      "execution_count": 9,
      "outputs": [
        {
          "output_type": "execute_result",
          "data": {
            "text/plain": [
              "[<matplotlib.lines.Line2D at 0x7e904769f070>]"
            ]
          },
          "metadata": {},
          "execution_count": 9
        },
        {
          "output_type": "display_data",
          "data": {
            "text/plain": [
              "<Figure size 640x480 with 1 Axes>"
            ],
            "image/png": "[encoded data removed]"
          },
          "metadata": {}
        }
      ]
    },
    {
      "cell_type": "code",
      "source": [
        "#Se hace una prediccion con el valor experimento de 100 celcius\n",
        "print('Hagamos una prediccion!')\n",
        "resultado = modelo.predict([100.0])\n",
        "print('El resultado es ' + str(resultado) + 'fahrenheit!')"
      ],
      "metadata": {
        "colab": {
          "base_uri": "https://localhost:8080/"
        },
        "id": "GcvVq7AXgmro",
        "outputId": "eb306b27-e824-454d-a8fc-89daa74149b7"
      },
      "execution_count": 10,
      "outputs": [
        {
          "output_type": "stream",
          "name": "stdout",
          "text": [
            "Hagamos una prediccion!\n",
            "1/1 [==============================] - 0s 91ms/step\n",
            "El resultado es [[211.74255]]fahrenheit!\n"
          ]
        }
      ]
    },
    {
      "cell_type": "markdown",
      "source": [
        "#Grados Farenheit a Centrigados"
      ],
      "metadata": {
        "id": "BrQaUQdcijaI"
      }
    },
    {
      "cell_type": "code",
      "source": [
        "import tensorflow as tf\n",
        "import numpy as np"
      ],
      "metadata": {
        "id": "5lUHPSsKisvb"
      },
      "execution_count": 11,
      "outputs": []
    },
    {
      "cell_type": "code",
      "source": [
        "#Arreglo de grados Celcius\n",
        "fahrenheit = np.array([-18.24, 5.67, 42.89, -9.34, 84.21, 62.07, 36.12, -22.53, 13.45, 70.14], dtype=float)\n",
        "#Arreglo de grados fahrenheit\n",
        "centigrados = np.array([-27.91, -14.06, 6.05, -22.97, 29.01, 16.71, 2.29, -30.29, -10.81, 21.19], dtype=float)\n",
        "\n",
        "#Definiendo capa con un solo nodo\n",
        "capa = tf.keras.layers.Dense(units=1, input_shape=[1])\n",
        "#El modelo se organiza de forma secuencial\n",
        "modelo = tf.keras.Sequential([capa])"
      ],
      "metadata": {
        "id": "lnZq3D1gshgu"
      },
      "execution_count": 12,
      "outputs": []
    },
    {
      "cell_type": "code",
      "source": [
        "modelo.compile(\n",
        "    #Optimiza los pesos del codigo (Poco pero gran cambio = malo,\n",
        "    #Mucho pero pequenio cambio = bueno)\n",
        "     optimizer = tf.keras.optimizers.Adam(0.1),\n",
        "     loss = 'mean_squared_error'\n",
        " )"
      ],
      "metadata": {
        "id": "fF-aw6Aoxb0s"
      },
      "execution_count": 13,
      "outputs": []
    },
    {
      "cell_type": "code",
      "source": [
        "#Comienza con el entrenamiento\n",
        "print('Comenzando entrenamiento...')\n",
        "#Se establece cuantos entrenamientos va a hacer (epochs=1000)\n",
        "historial = modelo.fit(fahrenheit, centigrados, epochs=1000, verbose=False)\n",
        "print('Modelo entrenado!')"
      ],
      "metadata": {
        "colab": {
          "base_uri": "https://localhost:8080/"
        },
        "id": "Zcywv7vPxhxz",
        "outputId": "ed5b36f0-33f5-4fba-caf8-c15e881338f5"
      },
      "execution_count": 14,
      "outputs": [
        {
          "output_type": "stream",
          "name": "stdout",
          "text": [
            "Comenzando entrenamiento...\n",
            "Modelo entrenado!\n"
          ]
        }
      ]
    },
    {
      "cell_type": "code",
      "source": [
        "#Se grafica el entrenamiento del modelo\n",
        "import matplotlib.pyplot as plt\n",
        "plt.xlabel('# Intentos')\n",
        "plt.ylabel('Magnitud de fallos')\n",
        "plt.plot(historial.history['loss'])"
      ],
      "metadata": {
        "colab": {
          "base_uri": "https://localhost:8080/",
          "height": 466
        },
        "id": "TCKKbJHlyYsO",
        "outputId": "3800397f-e817-41e0-f79d-6416789f5a57"
      },
      "execution_count": 16,
      "outputs": [
        {
          "output_type": "execute_result",
          "data": {
            "text/plain": [
              "[<matplotlib.lines.Line2D at 0x7e9046c03400>]"
            ]
          },
          "metadata": {},
          "execution_count": 16
        },
        {
          "output_type": "display_data",
          "data": {
            "text/plain": [
              "<Figure size 640x480 with 1 Axes>"
            ],
            "image/png": "[encoded data removed]"
          },
          "metadata": {}
        }
      ]
    },
    {
      "cell_type": "code",
      "source": [
        "#Se hace una prediccion con el valor experimento de 100 celcius\n",
        "print('Hagamos una prediccion!')\n",
        "valor_fahr = float(input('Ingresa un valor en grados Fahrenheit '))\n",
        "resultado = modelo.predict([valor_fahr])\n",
        "print('El resultado es ' + str(resultado) + 'Grados centrigados')"
      ],
      "metadata": {
        "colab": {
          "base_uri": "https://localhost:8080/"
        },
        "id": "33ZVNCFUyp9F",
        "outputId": "bc67aa46-efd5-4455-a974-d23a294a560b"
      },
      "execution_count": 19,
      "outputs": [
        {
          "output_type": "stream",
          "name": "stdout",
          "text": [
            "Hagamos una prediccion!\n",
            "Ingresa un valor en grados Fahrenheit 27\n",
            "1/1 [==============================] - 0s 36ms/step\n",
            "El resultado es [[-2.7703]]Grados centrigados\n"
          ]
        }
      ]
    }
  ]
}