{
  "nbformat": 4,
  "nbformat_minor": 0,
  "metadata": {
    "colab": {
      "provenance": [],
      "authorship_tag": "ABX9TyMYetUwiVp9C7wgHxNaG01O",
      "include_colab_link": true
    },
    "kernelspec": {
      "name": "python3",
      "display_name": "Python 3"
    },
    "language_info": {
      "name": "python"
    }
  },
  "cells": [
    {
      "cell_type": "markdown",
      "metadata": {
        "id": "view-in-github",
        "colab_type": "text"
      },
      "source": [
        "<a href=\"https://colab.research.google.com/github/LuisElRey/CursoPyton/blob/main/Proy_Fin.ipynb\" target=\"_parent\"><img src=\"https://colab.research.google.com/assets/colab-badge.svg\" alt=\"Open In Colab\"/></a>"
      ]
    },
    {
      "cell_type": "code",
      "source": [
        "#Se importa la libreria pickle que ayuda a crear la lista\n",
        "import pickle"
      ],
      "metadata": {
        "id": "O3Hg6cgjk7fL"
      },
      "execution_count": 1,
      "outputs": []
    },
    {
      "cell_type": "code",
      "source": [
        "#Se crea la clase Tarea para darle un estado de completada o pendiente\n",
        "class Tarea:\n",
        "    def __init__(self, descripcion):\n",
        "        self.descripcion = descripcion\n",
        "        self.completada = False\n",
        "\n",
        "    def completar(self):\n",
        "        self.completada = True\n",
        "\n",
        "    def __str__(self):\n",
        "        estado = \"Completada\" if self.completada else \"Pendiente\"\n",
        "        return f\"{self.descripcion} - {estado}\"\n",
        "\n",
        "#Se crea la clase ListaTareas que nos ayuda a todas las opciones en la lista\n",
        "#como agregar o eliminar\n",
        "class ListaTareas:\n",
        "    def __init__(self):\n",
        "        self.tareas = []\n",
        "\n",
        "    def agregar_tarea(self, tarea):\n",
        "        self.tareas.append(tarea)\n",
        "\n",
        "    def eliminar_tarea(self, indice):\n",
        "        if 0 <= indice < len(self.tareas):\n",
        "            del self.tareas[indice]\n",
        "\n",
        "    def mostrar_tareas(self):\n",
        "        if not self.tareas:\n",
        "            print(\"La lista de tareas está vacía.\")\n",
        "        else:\n",
        "            for i, tarea in enumerate(self.tareas):\n",
        "                print(f\"{i+1}. {tarea}\")\n",
        "    #Se utiliza el modulo 'pickle' para guardar la lista en un archivo\n",
        "    #binario\n",
        "    def guardar_en_archivo(self, nombre_archivo):\n",
        "        with open(nombre_archivo, 'wb') as archivo:\n",
        "            pickle.dump(self.tareas, archivo)\n",
        "\n",
        "    def cargar_desde_archivo(self, nombre_archivo):\n",
        "        with open(nombre_archivo, 'rb') as archivo:\n",
        "            self.tareas = pickle.load(archivo)\n",
        "\n"
      ],
      "metadata": {
        "id": "KkgmgpvziLS5"
      },
      "execution_count": 2,
      "outputs": []
    },
    {
      "cell_type": "code",
      "source": [
        "#Se define la funcion main para ejecutar el ciclo principal para interactuar\n",
        "#con el usuario\n",
        "def main():\n",
        "    lista = ListaTareas()\n",
        "\n",
        "    while True:\n",
        "        print(\"\\nBienvenido a la Aplicación de Lista de Tareas\")\n",
        "        print(\"1. Agregar Tarea\")\n",
        "        print(\"2. Completar Tarea\")\n",
        "        print(\"3. Eliminar Tarea\")\n",
        "        print(\"4. Mostrar Tareas\")\n",
        "        print(\"5. Guardar Tareas en Archivo\")\n",
        "        print(\"6. Cargar Tareas desde Archivo\")\n",
        "        print(\"7. Salir\")\n",
        "\n",
        "        opcion = int(input(\"Seleccione una opción: \"))\n",
        "\n",
        "        #Se agrega la tarea\n",
        "        if opcion == 1:\n",
        "            descripcion = input(\"Ingrese la descripción de la tarea: \")\n",
        "            tarea = Tarea(descripcion)\n",
        "            lista.agregar_tarea(tarea)\n",
        "            print(\"Tarea agregada exitosamente.\")\n",
        "\n",
        "      #Se completa laa tarea\n",
        "        elif opcion == 2:\n",
        "            lista.mostrar_tareas()\n",
        "            indice = int(input(\"Ingrese el número de tarea que desea completar: \")) - 1\n",
        "            if 0 <= indice < len(lista.tareas):\n",
        "                lista.tareas[indice].completar()\n",
        "                print(\"Tarea completada.\")\n",
        "            else:\n",
        "                print(\"Número de tarea inválido.\")\n",
        "        #Se elimina la tarea\n",
        "        elif opcion == 3:\n",
        "            lista.mostrar_tareas()\n",
        "            indice = int(input(\"Ingrese el número de tarea que desea eliminar: \")) - 1\n",
        "            lista.eliminar_tarea(indice)\n",
        "            print(\"Tarea eliminada.\")\n",
        "        #Se muestra la tarea\n",
        "        elif opcion == 4:\n",
        "            lista.mostrar_tareas()\n",
        "        #Se guarda la tarea en el archivo\n",
        "        elif opcion == 5:\n",
        "            nombre_archivo = input(\"Ingrese el nombre del archivo para guardar: \")\n",
        "            lista.guardar_en_archivo(nombre_archivo)\n",
        "            print(\"Tareas guardadas en archivo.\")\n",
        "        #Se carga la tarea desde el archivo\n",
        "        elif opcion == 6:\n",
        "            nombre_archivo = input(\"Ingrese el nombre del archivo para cargar: \")\n",
        "            lista.cargar_desde_archivo(nombre_archivo)\n",
        "            print(\"Tareas cargadas desde archivo.\")\n",
        "        #Salir del programa\n",
        "        elif opcion == 7:\n",
        "            print(\"¡Hasta luego!\")\n",
        "            break\n",
        "        else:\n",
        "            print(\"Opción inválida. Por favor, seleccione una opción válida.\")\n",
        "\n",
        "if __name__ == \"__main__\":\n",
        "    main()"
      ],
      "metadata": {
        "colab": {
          "base_uri": "https://localhost:8080/"
        },
        "id": "KxsczO9Ck3I0",
        "outputId": "38e3c5da-3b98-490d-a63c-6f6f8def3be9"
      },
      "execution_count": 3,
      "outputs": [
        {
          "output_type": "stream",
          "name": "stdout",
          "text": [
            "\n",
            "Bienvenido a la Aplicación de Lista de Tareas\n",
            "1. Agregar Tarea\n",
            "2. Completar Tarea\n",
            "3. Eliminar Tarea\n",
            "4. Mostrar Tareas\n",
            "5. Guardar Tareas en Archivo\n",
            "6. Cargar Tareas desde Archivo\n",
            "7. Salir\n",
            "Seleccione una opción: 1\n",
            "Ingrese la descripción de la tarea: Proyecto final\n",
            "Tarea agregada exitosamente.\n",
            "\n",
            "Bienvenido a la Aplicación de Lista de Tareas\n",
            "1. Agregar Tarea\n",
            "2. Completar Tarea\n",
            "3. Eliminar Tarea\n",
            "4. Mostrar Tareas\n",
            "5. Guardar Tareas en Archivo\n",
            "6. Cargar Tareas desde Archivo\n",
            "7. Salir\n",
            "Seleccione una opción: 4\n",
            "1. Proyecto final - Pendiente\n",
            "\n",
            "Bienvenido a la Aplicación de Lista de Tareas\n",
            "1. Agregar Tarea\n",
            "2. Completar Tarea\n",
            "3. Eliminar Tarea\n",
            "4. Mostrar Tareas\n",
            "5. Guardar Tareas en Archivo\n",
            "6. Cargar Tareas desde Archivo\n",
            "7. Salir\n",
            "Seleccione una opción: 7\n",
            "¡Hasta luego!\n"
          ]
        }
      ]
    },
    {
      "cell_type": "code",
      "source": [],
      "metadata": {
        "id": "I9TZoBnlPUPC"
      },
      "execution_count": null,
      "outputs": []
    }
  ]
}