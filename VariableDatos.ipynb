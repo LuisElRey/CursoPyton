{
  "nbformat": 4,
  "nbformat_minor": 0,
  "metadata": {
    "colab": {
      "provenance": [],
      "authorship_tag": "ABX9TyP56xQgN1o1gm04iUSbNweB",
      "include_colab_link": true
    },
    "kernelspec": {
      "name": "python3",
      "display_name": "Python 3"
    },
    "language_info": {
      "name": "python"
    }
  },
  "cells": [
    {
      "cell_type": "markdown",
      "metadata": {
        "id": "view-in-github",
        "colab_type": "text"
      },
      "source": [
        "<a href=\"https://colab.research.google.com/github/LuisElRey/CursoPyton/blob/main/VariableDatos.ipynb\" target=\"_parent\"><img src=\"https://colab.research.google.com/assets/colab-badge.svg\" alt=\"Open In Colab\"/></a>"
      ]
    },
    {
      "cell_type": "markdown",
      "source": [
        "Autor: Luis Zeron  \n",
        "\n",
        "Curso: Python de basico a intermedio\n",
        "\n",
        "11/07/2023"
      ],
      "metadata": {
        "id": "ogxUpCFB17ng"
      }
    },
    {
      "cell_type": "markdown",
      "source": [
        "# 2.1 Tipos de datos"
      ],
      "metadata": {
        "id": "-fj1dTbp15fO"
      }
    },
    {
      "cell_type": "code",
      "source": [
        "type(100)"
      ],
      "metadata": {
        "colab": {
          "base_uri": "https://localhost:8080/"
        },
        "id": "5buBHKoD2EFg",
        "outputId": "c617bf5c-9e92-47c8-e3c9-a85129b55ec0"
      },
      "execution_count": 18,
      "outputs": [
        {
          "output_type": "execute_result",
          "data": {
            "text/plain": [
              "int"
            ]
          },
          "metadata": {},
          "execution_count": 18
        }
      ]
    },
    {
      "cell_type": "code",
      "source": [
        "type(50403.2)"
      ],
      "metadata": {
        "colab": {
          "base_uri": "https://localhost:8080/"
        },
        "id": "1ZY9TMeS2PoL",
        "outputId": "6e8b3030-32a1-4900-b018-e2f5e67f383f"
      },
      "execution_count": 19,
      "outputs": [
        {
          "output_type": "execute_result",
          "data": {
            "text/plain": [
              "float"
            ]
          },
          "metadata": {},
          "execution_count": 19
        }
      ]
    },
    {
      "cell_type": "code",
      "source": [
        "type('A')"
      ],
      "metadata": {
        "colab": {
          "base_uri": "https://localhost:8080/"
        },
        "id": "9ARxTuOK2UXe",
        "outputId": "b99c688f-b67f-4059-8970-48484ad16d16"
      },
      "execution_count": 3,
      "outputs": [
        {
          "output_type": "execute_result",
          "data": {
            "text/plain": [
              "str"
            ]
          },
          "metadata": {},
          "execution_count": 3
        }
      ]
    },
    {
      "cell_type": "code",
      "source": [
        "print('hello')"
      ],
      "metadata": {
        "colab": {
          "base_uri": "https://localhost:8080/"
        },
        "id": "kAclyU4l2Zeq",
        "outputId": "3ec622cf-6945-4e72-9165-e68827753895"
      },
      "execution_count": 4,
      "outputs": [
        {
          "output_type": "stream",
          "name": "stdout",
          "text": [
            "hello\n"
          ]
        }
      ]
    },
    {
      "cell_type": "code",
      "source": [
        "print(type('hello'))"
      ],
      "metadata": {
        "colab": {
          "base_uri": "https://localhost:8080/"
        },
        "id": "B7y4n_Ir2i6V",
        "outputId": "972ce03e-0e51-4279-d20c-a3f1b069d124"
      },
      "execution_count": 5,
      "outputs": [
        {
          "output_type": "stream",
          "name": "stdout",
          "text": [
            "<class 'str'>\n"
          ]
        }
      ]
    },
    {
      "cell_type": "code",
      "source": [
        "type('17')"
      ],
      "metadata": {
        "colab": {
          "base_uri": "https://localhost:8080/"
        },
        "id": "e5kBSvoU2nnU",
        "outputId": "4c5c8a5f-873f-4c53-b13c-daf9acc41a7c"
      },
      "execution_count": 6,
      "outputs": [
        {
          "output_type": "execute_result",
          "data": {
            "text/plain": [
              "str"
            ]
          },
          "metadata": {},
          "execution_count": 6
        }
      ]
    },
    {
      "cell_type": "code",
      "source": [
        "type('''Triple double quote data''')"
      ],
      "metadata": {
        "colab": {
          "base_uri": "https://localhost:8080/"
        },
        "id": "Yn7J5IpJ2up_",
        "outputId": "24205033-f26a-4074-a90c-25d50d6094a2"
      },
      "execution_count": 7,
      "outputs": [
        {
          "output_type": "execute_result",
          "data": {
            "text/plain": [
              "str"
            ]
          },
          "metadata": {},
          "execution_count": 7
        }
      ]
    },
    {
      "cell_type": "code",
      "source": [
        "print('''Triple double quote data''')"
      ],
      "metadata": {
        "colab": {
          "base_uri": "https://localhost:8080/"
        },
        "id": "wzTLHz0a2-dg",
        "outputId": "bcce8310-a71e-4d80-baa4-878914ef233e"
      },
      "execution_count": 9,
      "outputs": [
        {
          "output_type": "stream",
          "name": "stdout",
          "text": [
            "Triple double quote data\n"
          ]
        }
      ]
    },
    {
      "cell_type": "code",
      "source": [
        "a = 'hello'"
      ],
      "metadata": {
        "id": "tiVaGr-X27xZ"
      },
      "execution_count": 8,
      "outputs": []
    },
    {
      "cell_type": "code",
      "source": [
        "print(a)"
      ],
      "metadata": {
        "colab": {
          "base_uri": "https://localhost:8080/"
        },
        "id": "HWiFqVJX3o00",
        "outputId": "b28e7ae2-3fb5-4b0e-c4be-30623836707c"
      },
      "execution_count": 10,
      "outputs": [
        {
          "output_type": "stream",
          "name": "stdout",
          "text": [
            "hello\n"
          ]
        }
      ]
    },
    {
      "cell_type": "code",
      "source": [
        "a"
      ],
      "metadata": {
        "colab": {
          "base_uri": "https://localhost:8080/",
          "height": 36
        },
        "id": "djreyzuB90-V",
        "outputId": "0e027ab7-93cb-446b-9df7-e1bdfa91ad11"
      },
      "execution_count": 20,
      "outputs": [
        {
          "output_type": "execute_result",
          "data": {
            "text/plain": [
              "'hello'"
            ],
            "application/vnd.google.colaboratory.intrinsic+json": {
              "type": "string"
            }
          },
          "metadata": {},
          "execution_count": 20
        }
      ]
    },
    {
      "cell_type": "markdown",
      "source": [
        "#2.2 Conversion De Tipos"
      ],
      "metadata": {
        "id": "sKZitoUP330R"
      }
    },
    {
      "cell_type": "code",
      "source": [
        "data = 'Hello' #no se puede convertir una cadena en flotante a entero"
      ],
      "metadata": {
        "id": "IdhI4-xL4Emf"
      },
      "execution_count": 11,
      "outputs": []
    },
    {
      "cell_type": "code",
      "source": [
        "type(data)"
      ],
      "metadata": {
        "colab": {
          "base_uri": "https://localhost:8080/"
        },
        "id": "D9doFTSA4CGy",
        "outputId": "6f5ed653-678a-4428-fe39-e8d02591af20"
      },
      "execution_count": 12,
      "outputs": [
        {
          "output_type": "execute_result",
          "data": {
            "text/plain": [
              "str"
            ]
          },
          "metadata": {},
          "execution_count": 12
        }
      ]
    },
    {
      "cell_type": "code",
      "source": [
        "data = '100'\n",
        "type(data)"
      ],
      "metadata": {
        "colab": {
          "base_uri": "https://localhost:8080/"
        },
        "id": "Es5GCInO3rbe",
        "outputId": "10f35b52-b4a6-4ce7-edf0-d5f95a4bf332"
      },
      "execution_count": 21,
      "outputs": [
        {
          "output_type": "execute_result",
          "data": {
            "text/plain": [
              "int"
            ]
          },
          "metadata": {},
          "execution_count": 21
        }
      ]
    },
    {
      "cell_type": "code",
      "source": [
        "num = int(data)\n",
        "type(num)"
      ],
      "metadata": {
        "colab": {
          "base_uri": "https://localhost:8080/"
        },
        "id": "gDXMDHBW5BUE",
        "outputId": "f27ce44c-4665-4d5e-e0db-423b905f4eea"
      },
      "execution_count": 15,
      "outputs": [
        {
          "output_type": "execute_result",
          "data": {
            "text/plain": [
              "int"
            ]
          },
          "metadata": {},
          "execution_count": 15
        }
      ]
    },
    {
      "cell_type": "code",
      "source": [
        "num"
      ],
      "metadata": {
        "colab": {
          "base_uri": "https://localhost:8080/"
        },
        "id": "D2HXcWsR54CN",
        "outputId": "9f9978a7-42a1-467a-ddea-efb4c33cd801"
      },
      "execution_count": 16,
      "outputs": [
        {
          "output_type": "execute_result",
          "data": {
            "text/plain": [
              "100"
            ]
          },
          "metadata": {},
          "execution_count": 16
        }
      ]
    },
    {
      "cell_type": "code",
      "source": [
        "price = float(500.99)\n",
        "type(price)"
      ],
      "metadata": {
        "colab": {
          "base_uri": "https://localhost:8080/"
        },
        "id": "-Mh4qxF455NH",
        "outputId": "f319fc03-2023-4daa-8304-c4c11be5026f"
      },
      "execution_count": 22,
      "outputs": [
        {
          "output_type": "execute_result",
          "data": {
            "text/plain": [
              "float"
            ]
          },
          "metadata": {},
          "execution_count": 22
        }
      ]
    },
    {
      "cell_type": "code",
      "source": [
        "float('hi')"
      ],
      "metadata": {
        "colab": {
          "base_uri": "https://localhost:8080/",
          "height": 165
        },
        "id": "HxfJqf5c-Psw",
        "outputId": "b60b75e0-fac6-42fe-b15a-9d64e8fd1977"
      },
      "execution_count": 23,
      "outputs": [
        {
          "output_type": "error",
          "ename": "ValueError",
          "evalue": "ignored",
          "traceback": [
            "\u001b[0;31m---------------------------------------------------------------------------\u001b[0m",
            "\u001b[0;31mValueError\u001b[0m                                Traceback (most recent call last)",
            "\u001b[0;32m<ipython-input-23-4db454aaf92e>\u001b[0m in \u001b[0;36m<cell line: 1>\u001b[0;34m()\u001b[0m\n\u001b[0;32m----> 1\u001b[0;31m \u001b[0mfloat\u001b[0m\u001b[0;34m(\u001b[0m\u001b[0;34m'hi'\u001b[0m\u001b[0;34m)\u001b[0m\u001b[0;34m\u001b[0m\u001b[0;34m\u001b[0m\u001b[0m\n\u001b[0m",
            "\u001b[0;31mValueError\u001b[0m: could not convert string to float: 'hi'"
          ]
        }
      ]
    },
    {
      "cell_type": "code",
      "source": [
        "int('hola')"
      ],
      "metadata": {
        "colab": {
          "base_uri": "https://localhost:8080/",
          "height": 165
        },
        "id": "6FwUSHg2-UbN",
        "outputId": "46acedb4-8957-45c6-f808-015cab613357"
      },
      "execution_count": 24,
      "outputs": [
        {
          "output_type": "error",
          "ename": "ValueError",
          "evalue": "ignored",
          "traceback": [
            "\u001b[0;31m---------------------------------------------------------------------------\u001b[0m",
            "\u001b[0;31mValueError\u001b[0m                                Traceback (most recent call last)",
            "\u001b[0;32m<ipython-input-24-2d745ed8249a>\u001b[0m in \u001b[0;36m<cell line: 1>\u001b[0;34m()\u001b[0m\n\u001b[0;32m----> 1\u001b[0;31m \u001b[0mint\u001b[0m\u001b[0;34m(\u001b[0m\u001b[0;34m'hola'\u001b[0m\u001b[0;34m)\u001b[0m\u001b[0;34m\u001b[0m\u001b[0;34m\u001b[0m\u001b[0m\n\u001b[0m",
            "\u001b[0;31mValueError\u001b[0m: invalid literal for int() with base 10: 'hola'"
          ]
        }
      ]
    },
    {
      "cell_type": "code",
      "source": [
        "num = 99.99\n",
        "striNum = str(num)\n",
        "print(striNum)\n",
        "type(striNum)"
      ],
      "metadata": {
        "colab": {
          "base_uri": "https://localhost:8080/"
        },
        "id": "2xAi1Ivr6T0k",
        "outputId": "0f262a33-dc6c-428a-b2f7-45ecba9b18ba"
      },
      "execution_count": 25,
      "outputs": [
        {
          "output_type": "stream",
          "name": "stdout",
          "text": [
            "99.99\n"
          ]
        },
        {
          "output_type": "execute_result",
          "data": {
            "text/plain": [
              "str"
            ]
          },
          "metadata": {},
          "execution_count": 25
        }
      ]
    },
    {
      "cell_type": "code",
      "source": [
        "type(True)"
      ],
      "metadata": {
        "colab": {
          "base_uri": "https://localhost:8080/"
        },
        "id": "FmocI5bi-aeX",
        "outputId": "035e3a90-bbe6-4ba4-8d6a-7936ac0ae6d5"
      },
      "execution_count": 26,
      "outputs": [
        {
          "output_type": "execute_result",
          "data": {
            "text/plain": [
              "bool"
            ]
          },
          "metadata": {},
          "execution_count": 26
        }
      ]
    },
    {
      "cell_type": "code",
      "source": [
        "type(False)"
      ],
      "metadata": {
        "colab": {
          "base_uri": "https://localhost:8080/"
        },
        "id": "cYOhSMum-d9i",
        "outputId": "9c2af8f4-d55a-41e2-a6ca-2ce59484ebd8"
      },
      "execution_count": 27,
      "outputs": [
        {
          "output_type": "execute_result",
          "data": {
            "text/plain": [
              "bool"
            ]
          },
          "metadata": {},
          "execution_count": 27
        }
      ]
    },
    {
      "cell_type": "markdown",
      "source": [
        "#2.3 Declaraciones\n",
        "- Una declaración es una instrucción que el intérprete de Python puede ejecutar\n",
        "\n",
        "- Hemos visto sentencias de asignacion hasta ahora\n",
        "\n",
        "- Luego exploraremos for, if, import, while y otras declarations\n",
        "\n"
      ],
      "metadata": {
        "id": "91MkZbrR-l-m"
      }
    },
    {
      "cell_type": "code",
      "source": [
        "1+2"
      ],
      "metadata": {
        "colab": {
          "base_uri": "https://localhost:8080/"
        },
        "id": "kKRikQKk_NT5",
        "outputId": "924053c1-91f7-44a0-de44-0775d770d194"
      },
      "execution_count": 28,
      "outputs": [
        {
          "output_type": "execute_result",
          "data": {
            "text/plain": [
              "3"
            ]
          },
          "metadata": {},
          "execution_count": 28
        }
      ]
    },
    {
      "cell_type": "code",
      "source": [
        "len('hello')"
      ],
      "metadata": {
        "colab": {
          "base_uri": "https://localhost:8080/"
        },
        "id": "VzdzIdhr_OLN",
        "outputId": "36649b7e-520a-4aa3-89a6-d144b7c6611e"
      },
      "execution_count": 29,
      "outputs": [
        {
          "output_type": "execute_result",
          "data": {
            "text/plain": [
              "5"
            ]
          },
          "metadata": {},
          "execution_count": 29
        }
      ]
    },
    {
      "cell_type": "code",
      "source": [
        "print(2+3*4)"
      ],
      "metadata": {
        "colab": {
          "base_uri": "https://localhost:8080/"
        },
        "id": "3H1tpZu5_Ogy",
        "outputId": "da753229-db97-4c82-eedc-7ba8ddb90260"
      },
      "execution_count": 30,
      "outputs": [
        {
          "output_type": "stream",
          "name": "stdout",
          "text": [
            "14\n"
          ]
        }
      ]
    },
    {
      "cell_type": "code",
      "source": [
        "print(''' \"oh no\", Ella exclamo, \"La ventana de vero esta rota\" ''')"
      ],
      "metadata": {
        "colab": {
          "base_uri": "https://localhost:8080/"
        },
        "id": "92FF8VzN7RP0",
        "outputId": "62757c8f-415b-4bac-eaa9-08bce9b672b1"
      },
      "execution_count": 17,
      "outputs": [
        {
          "output_type": "stream",
          "name": "stdout",
          "text": [
            " \"oh no\", Ella exclamo, \"La ventana de vero esta rota\" \n"
          ]
        }
      ]
    },
    {
      "cell_type": "markdown",
      "source": [
        "# 2.4 Secuencias de escape\n",
        "- Algunas letras o secuencias de letras tienen un significado especial para Python\n",
        "\n",
        "- Las comillas simples, dobles y triples simples o dobles representan datos de cadena\n",
        "\n",
        "- utilice la barra invertida \\\\ para representar estas secuencias de escape, por ejemplo,\n",
        "\n",
        "    - \\\\n - nueva linea\n",
        "    - \\\\\\\\ - barra invertida\n",
        "    - \\\\t - tabulador\n",
        "    - \\\\r - retorno de carro\n",
        "    - \\\\' - una frase\n",
        "    - \\\\\" - comillas dobles"
      ],
      "metadata": {
        "id": "zI6OQl-D_eHN"
      }
    },
    {
      "cell_type": "code",
      "source": [
        "print('Hello \\t here...\\n how are you?')"
      ],
      "metadata": {
        "colab": {
          "base_uri": "https://localhost:8080/"
        },
        "id": "F1NfG4gsAgl_",
        "outputId": "2af49651-dd68-49d5-b7db-673592b5524c"
      },
      "execution_count": 32,
      "outputs": [
        {
          "output_type": "stream",
          "name": "stdout",
          "text": [
            "Hello \t here...\n",
            " how are you?\n"
          ]
        }
      ]
    },
    {
      "cell_type": "code",
      "source": [
        "print('Hello \\t here...\\n how are you? \\\\\\\\')"
      ],
      "metadata": {
        "colab": {
          "base_uri": "https://localhost:8080/"
        },
        "id": "e9yL1xcoAr-i",
        "outputId": "cfa93092-cd1a-428a-cd41-02414a5d45f8"
      },
      "execution_count": 33,
      "outputs": [
        {
          "output_type": "stream",
          "name": "stdout",
          "text": [
            "Hello \t here...\n",
            " how are you? \\\\\n"
          ]
        }
      ]
    },
    {
      "cell_type": "code",
      "source": [
        "print(r'Hello  here... how are you? \\\\')"
      ],
      "metadata": {
        "colab": {
          "base_uri": "https://localhost:8080/"
        },
        "id": "HCIvyhysAvVo",
        "outputId": "dfac171f-7233-4426-a594-7a5cc4ec6c68"
      },
      "execution_count": 34,
      "outputs": [
        {
          "output_type": "stream",
          "name": "stdout",
          "text": [
            "Hello  here... how are you? \\\\\n"
          ]
        }
      ]
    },
    {
      "cell_type": "markdown",
      "source": [
        "#2.5 variable"
      ],
      "metadata": {
        "id": "Pwvqfj11A14Z"
      }
    },
    {
      "cell_type": "code",
      "source": [
        "help('keywords')"
      ],
      "metadata": {
        "colab": {
          "base_uri": "https://localhost:8080/"
        },
        "id": "10K_MAu9Axky",
        "outputId": "da7f4cb9-b14e-42df-eee4-b370d7079333"
      },
      "execution_count": 35,
      "outputs": [
        {
          "output_type": "stream",
          "name": "stdout",
          "text": [
            "\n",
            "Here is a list of the Python keywords.  Enter any keyword to get more help.\n",
            "\n",
            "False               class               from                or\n",
            "None                continue            global              pass\n",
            "True                def                 if                  raise\n",
            "and                 del                 import              return\n",
            "as                  elif                in                  try\n",
            "assert              else                is                  while\n",
            "async               except              lambda              with\n",
            "await               finally             nonlocal            yield\n",
            "break               for                 not                 \n",
            "\n"
          ]
        }
      ]
    },
    {
      "cell_type": "code",
      "source": [
        "#Las variables deben estr definidas inicial mente o antes de ser usadas\n",
        "x = 'algun valor'\n",
        "print(x)"
      ],
      "metadata": {
        "colab": {
          "base_uri": "https://localhost:8080/"
        },
        "id": "Gwx1S0ETA-EF",
        "outputId": "fb383d2c-e5fe-4ab1-e5f3-5f287a7cd58e"
      },
      "execution_count": 38,
      "outputs": [
        {
          "output_type": "stream",
          "name": "stdout",
          "text": [
            "algun valor\n"
          ]
        }
      ]
    },
    {
      "cell_type": "code",
      "source": [
        "var1= -100\n",
        "num = -99.99\n",
        "name = 'john'\n",
        "lname = 'smith'\n",
        "grade = 10.5\n",
        "name = 'jake'\n",
        "grade = 19.9\n",
        "gradosCelsius = '32'\n",
        "grados_Celsius = 32"
      ],
      "metadata": {
        "id": "hf1rRVZiBYqW"
      },
      "execution_count": 43,
      "outputs": []
    },
    {
      "cell_type": "code",
      "source": [
        "type(gradosCelsius)"
      ],
      "metadata": {
        "colab": {
          "base_uri": "https://localhost:8080/"
        },
        "id": "uQOS-tcxE6pP",
        "outputId": "2e381dec-31e8-438d-ef00-9a0cc5c21d58"
      },
      "execution_count": 44,
      "outputs": [
        {
          "output_type": "execute_result",
          "data": {
            "text/plain": [
              "str"
            ]
          },
          "metadata": {},
          "execution_count": 44
        }
      ]
    },
    {
      "cell_type": "code",
      "source": [
        "type(grados_Celsius)"
      ],
      "metadata": {
        "colab": {
          "base_uri": "https://localhost:8080/"
        },
        "id": "rlI0MhH4Gy_G",
        "outputId": "5b8e7d39-ee7a-4040-9021-42fed509edd2"
      },
      "execution_count": 46,
      "outputs": [
        {
          "output_type": "execute_result",
          "data": {
            "text/plain": [
              "int"
            ]
          },
          "metadata": {},
          "execution_count": 46
        }
      ]
    },
    {
      "cell_type": "code",
      "source": [
        "#Estructura dinámica\n",
        "var = 100"
      ],
      "metadata": {
        "id": "_-LM2I8hG39Y"
      },
      "execution_count": 47,
      "outputs": []
    },
    {
      "cell_type": "code",
      "source": [
        "var = 99.89"
      ],
      "metadata": {
        "id": "yM4vNj-SG7O5"
      },
      "execution_count": 48,
      "outputs": []
    },
    {
      "cell_type": "code",
      "source": [
        "var"
      ],
      "metadata": {
        "colab": {
          "base_uri": "https://localhost:8080/"
        },
        "id": "-t5d6IW7G_4s",
        "outputId": "e83c678b-7f49-4e1c-a4bb-0a5e6cb27932"
      },
      "execution_count": 49,
      "outputs": [
        {
          "output_type": "execute_result",
          "data": {
            "text/plain": [
              "99.89"
            ]
          },
          "metadata": {},
          "execution_count": 49
        }
      ]
    },
    {
      "cell_type": "markdown",
      "source": [
        "# 2.6 Computación: operadores y operandos\n",
        "- **operadores** son fichas/símbolos especiales que representan cálculos como suma, multiplicación y división\n",
        "- los valores que usa un operador se llaman **operandos**\n",
        "- algunos operadores binarios que toman dos operandos\n",
        "    - suma: 10 + 20\n",
        "    - resta: 20 - 10\n",
        "    - división verdadera: 10 / 3\n",
        "    - multiplicación: 7 * 9\n",
        "    - división entera: 10 // 3\n",
        "    - operador resto o módulo: 10 % 2\n",
        "    - potencia: 2 ** 3"
      ],
      "metadata": {
        "id": "ugbOU70_HEvK"
      }
    },
    {
      "cell_type": "code",
      "source": [
        "print(2 * 3 ** 2)"
      ],
      "metadata": {
        "colab": {
          "base_uri": "https://localhost:8080/"
        },
        "id": "sdhdVJXLHIBp",
        "outputId": "a8c43381-7218-41c5-a0cc-849733dfbce8"
      },
      "execution_count": 52,
      "outputs": [
        {
          "output_type": "stream",
          "name": "stdout",
          "text": [
            "18\n"
          ]
        }
      ]
    },
    {
      "cell_type": "code",
      "source": [
        "x = 1\n",
        "y = 2\n",
        "z = 3\n",
        "ans = x+y-z*y**y\n",
        "print(ans)"
      ],
      "metadata": {
        "colab": {
          "base_uri": "https://localhost:8080/"
        },
        "id": "E6bWrX2YHWD5",
        "outputId": "14dc882a-9c55-4b19-d2ed-0751a44d7cef"
      },
      "execution_count": 53,
      "outputs": [
        {
          "output_type": "stream",
          "name": "stdout",
          "text": [
            "-9\n"
          ]
        }
      ]
    },
    {
      "cell_type": "markdown",
      "source": [
        "# 2.7 Operations on strings\n",
        "\n",
        "+  and  ∗  operators also work on strings\n",
        "\n",
        "Chapter 08 covers more on string data type and operations"
      ],
      "metadata": {
        "id": "7rAKWRsYHaJj"
      }
    },
    {
      "cell_type": "code",
      "source": [
        "fname = \"John\"\n",
        "lname = \"Smith\"\n",
        "fullName = fname +\" \"+ lname\n",
        "print(fullName)"
      ],
      "metadata": {
        "colab": {
          "base_uri": "https://localhost:8080/"
        },
        "id": "oVF2m2GoHfE6",
        "outputId": "a44f984b-3e74-4ad3-9096-003c05302576"
      },
      "execution_count": 54,
      "outputs": [
        {
          "output_type": "stream",
          "name": "stdout",
          "text": [
            "John Smith\n"
          ]
        }
      ]
    },
    {
      "cell_type": "code",
      "source": [
        "gene = \"AGT\"*10\n",
        "print(gene)"
      ],
      "metadata": {
        "colab": {
          "base_uri": "https://localhost:8080/"
        },
        "id": "xoDWfxSMHkLS",
        "outputId": "e1444c7a-a91a-4b9c-e290-5b7da2a8d686"
      },
      "execution_count": 55,
      "outputs": [
        {
          "output_type": "stream",
          "name": "stdout",
          "text": [
            "AGTAGTAGTAGTAGTAGTAGTAGTAGTAGT\n"
          ]
        }
      ]
    },
    {
      "cell_type": "code",
      "source": [
        "name = input('What is your name? ')"
      ],
      "metadata": {
        "colab": {
          "base_uri": "https://localhost:8080/"
        },
        "id": "G81g6la_HzWU",
        "outputId": "7ba96881-7aa5-41aa-ee7a-c81bd71be40e"
      },
      "execution_count": 56,
      "outputs": [
        {
          "name": "stdout",
          "output_type": "stream",
          "text": [
            "What is your name? luis\n"
          ]
        }
      ]
    },
    {
      "cell_type": "code",
      "source": [
        "print('hello, ', name)"
      ],
      "metadata": {
        "colab": {
          "base_uri": "https://localhost:8080/"
        },
        "id": "3aXEjLT-H3Qx",
        "outputId": "dd8e3779-62ea-40d9-bba1-cc3e9ebb3c43"
      },
      "execution_count": 57,
      "outputs": [
        {
          "output_type": "stream",
          "name": "stdout",
          "text": [
            "hello,  luis\n"
          ]
        }
      ]
    },
    {
      "cell_type": "code",
      "source": [
        "num = input('Introduce un número: ')\n",
        "print('Tu número es: ', num)\n",
        "print('El tipo del', num, '=', type(num))"
      ],
      "metadata": {
        "colab": {
          "base_uri": "https://localhost:8080/"
        },
        "id": "XpRGhL6HH9J8",
        "outputId": "178714dd-bf18-447b-c5ca-1d7c6bf04ee4"
      },
      "execution_count": 58,
      "outputs": [
        {
          "output_type": "stream",
          "name": "stdout",
          "text": [
            "Introduce un número: 56\n",
            "Tu número es:  56\n",
            "El tipo del 56 = <class 'str'>\n"
          ]
        }
      ]
    },
    {
      "cell_type": "code",
      "source": [
        "# str must be casted into int or float depending on the value required\n",
        "num2 = float(num)\n",
        "print('type of', num, '=', type(num2))"
      ],
      "metadata": {
        "colab": {
          "base_uri": "https://localhost:8080/"
        },
        "id": "H_croVp5IHdC",
        "outputId": "ed6f7d47-6af0-4599-f884-468b5e40b28b"
      },
      "execution_count": 59,
      "outputs": [
        {
          "output_type": "stream",
          "name": "stdout",
          "text": [
            "type of 56 = <class 'float'>\n"
          ]
        }
      ]
    },
    {
      "cell_type": "markdown",
      "source": [
        "#Ejercicio 1"
      ],
      "metadata": {
        "id": "jSZ9jY0-ILG8"
      }
    },
    {
      "cell_type": "markdown",
      "source": [
        "# Area y perímetro de un rectángulo\n",
        "\n",
        "Escriba un script de python que calcule el área y el perímetro de un rectángulo"
      ],
      "metadata": {
        "id": "tF1f_fOAIPNE"
      }
    },
    {
      "cell_type": "code",
      "source": [
        "# Demuestra la composición paso a paso\n",
        "# Pasos del algoritmo\n",
        "# 1. Obtenga la longitud y el ancho de un rectángulo\n",
        "# a. valores codificados O\n",
        "#   b. solicitar al usuario que introduzca los valores de largo y ancho\n",
        "#     i. convertir la longitud y el ancho en tipos de datos correctos\n",
        "# 2. Encuentra el área = largo x ancho\n",
        "# 3. Encuentra el perímetro = 2 (largo + ancho)\n",
        "# 4. Mostrar resultados calculados"
      ],
      "metadata": {
        "id": "SAcJyXCXIXDK"
      },
      "execution_count": null,
      "outputs": []
    },
    {
      "cell_type": "code",
      "source": [
        "x = input('Introduce un número =>')\n",
        "x2 = float(x)"
      ],
      "metadata": {
        "colab": {
          "base_uri": "https://localhost:8080/"
        },
        "id": "33T0-P72IeKW",
        "outputId": "e4df6f9b-8278-4ff3-bb71-97e143a55bbf"
      },
      "execution_count": 60,
      "outputs": [
        {
          "name": "stdout",
          "output_type": "stream",
          "text": [
            "Introduce un número =>45\n"
          ]
        }
      ]
    },
    {
      "cell_type": "code",
      "source": [
        "y = float(input('Introduce un número =>'))"
      ],
      "metadata": {
        "colab": {
          "base_uri": "https://localhost:8080/"
        },
        "id": "OVHVcN6SIeU1",
        "outputId": "aba609bd-731b-4c68-f9ec-fca996a27a67"
      },
      "execution_count": 61,
      "outputs": [
        {
          "name": "stdout",
          "output_type": "stream",
          "text": [
            "Introduce un número =>67\n"
          ]
        }
      ]
    },
    {
      "cell_type": "code",
      "source": [
        "Area = x2 * y\n",
        "print(\"El área es:\",Area)"
      ],
      "metadata": {
        "colab": {
          "base_uri": "https://localhost:8080/"
        },
        "id": "LhAAXywWIegc",
        "outputId": "6b2ed15c-c23d-4c61-fdaf-15a66ace3df8"
      },
      "execution_count": 62,
      "outputs": [
        {
          "output_type": "stream",
          "name": "stdout",
          "text": [
            "El área es: 3015.0\n"
          ]
        }
      ]
    },
    {
      "cell_type": "code",
      "source": [
        "Perimetro = (2*x2) + (2*y)\n",
        "print(\"El perimetro es:\",Perimetro)"
      ],
      "metadata": {
        "colab": {
          "base_uri": "https://localhost:8080/"
        },
        "id": "Ny-ALEl9IeqE",
        "outputId": "9c358544-d029-421d-8f37-cdec866aa00b"
      },
      "execution_count": 63,
      "outputs": [
        {
          "output_type": "stream",
          "name": "stdout",
          "text": [
            "El perimetro es: 224.0\n"
          ]
        }
      ]
    },
    {
      "cell_type": "code",
      "source": [
        "Perimetro = 2*(x2 +y)\n",
        "\n",
        "print(\"El perimetro es:\",Perimetro)"
      ],
      "metadata": {
        "colab": {
          "base_uri": "https://localhost:8080/"
        },
        "id": "L34S4pJyIey_",
        "outputId": "2a86b252-2696-4c1e-ce7e-95fda3f60193"
      },
      "execution_count": 64,
      "outputs": [
        {
          "output_type": "stream",
          "name": "stdout",
          "text": [
            "El perimetro es: 224.0\n"
          ]
        }
      ]
    },
    {
      "cell_type": "markdown",
      "source": [
        "# 2. Área y circunferencia de un círculo\n",
        "- escribir un script de python que calcule el área y la circunferencia de un círculo\n",
        "- el área de un círculo se calcula usando la ecuación: $\\pi r^{2}$\n",
        "- el perímetro de un círculo se calcula usando la ecuación: $2 \\pi r$\n",
        "- puedes usar $\\pi=3.14159$"
      ],
      "metadata": {
        "id": "CpzzQQrzFRCA"
      }
    },
    {
      "cell_type": "code",
      "source": [
        "r = float(input('Introduce el radio del circulo: '))\n",
        "\n",
        "Area = 3.1416 * (r*r)\n",
        "print ('El area es de: ',Area)\n",
        "\n",
        "Perimetro = 2 * 3.1416 * r\n",
        "print('El perimetro es de: ', Perimetro)"
      ],
      "metadata": {
        "colab": {
          "base_uri": "https://localhost:8080/"
        },
        "id": "z9J8UNedJn8o",
        "outputId": "fce2fe24-f2db-4a9d-e519-b2894f774ce3"
      },
      "execution_count": 65,
      "outputs": [
        {
          "output_type": "stream",
          "name": "stdout",
          "text": [
            "Introduce el radio del circulo: 50\n",
            "El area es de:  7854.0\n",
            "El perimetro es de:  314.15999999999997\n"
          ]
        }
      ]
    }
  ]
}